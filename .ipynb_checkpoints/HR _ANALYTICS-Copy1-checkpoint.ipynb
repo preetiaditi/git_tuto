{
 "cells": [
  {
   "cell_type": "code",
   "execution_count": 1,
   "id": "c6e92cbf",
   "metadata": {},
   "outputs": [],
   "source": [
    "import pandas as pd\n",
    "import numpy as np\n",
    "import seaborn as sns\n",
    "from matplotlib import pyplot as plt"
   ]
  },
  {
   "cell_type": "code",
   "execution_count": 56,
   "id": "f2118285",
   "metadata": {},
   "outputs": [],
   "source": [
    "train=pd.read_csv(\"aug_train.csv\")"
   ]
  },
  {
   "cell_type": "code",
   "execution_count": 57,
   "id": "1103ad29",
   "metadata": {},
   "outputs": [
    {
     "data": {
      "text/plain": [
       "(19158, 14)"
      ]
     },
     "execution_count": 57,
     "metadata": {},
     "output_type": "execute_result"
    }
   ],
   "source": [
    "train.shape"
   ]
  },
  {
   "cell_type": "markdown",
   "id": "67953c45",
   "metadata": {},
   "source": [
    "Let's have a look at the data."
   ]
  },
  {
   "cell_type": "code",
   "execution_count": 4,
   "id": "32368db2",
   "metadata": {},
   "outputs": [
    {
     "data": {
      "text/html": [
       "<div>\n",
       "<style scoped>\n",
       "    .dataframe tbody tr th:only-of-type {\n",
       "        vertical-align: middle;\n",
       "    }\n",
       "\n",
       "    .dataframe tbody tr th {\n",
       "        vertical-align: top;\n",
       "    }\n",
       "\n",
       "    .dataframe thead th {\n",
       "        text-align: right;\n",
       "    }\n",
       "</style>\n",
       "<table border=\"1\" class=\"dataframe\">\n",
       "  <thead>\n",
       "    <tr style=\"text-align: right;\">\n",
       "      <th></th>\n",
       "      <th>enrollee_id</th>\n",
       "      <th>city</th>\n",
       "      <th>city_development_index</th>\n",
       "      <th>gender</th>\n",
       "      <th>relevent_experience</th>\n",
       "      <th>enrolled_university</th>\n",
       "      <th>education_level</th>\n",
       "      <th>major_discipline</th>\n",
       "      <th>experience</th>\n",
       "      <th>company_size</th>\n",
       "      <th>company_type</th>\n",
       "      <th>last_new_job</th>\n",
       "      <th>training_hours</th>\n",
       "      <th>target</th>\n",
       "    </tr>\n",
       "  </thead>\n",
       "  <tbody>\n",
       "    <tr>\n",
       "      <th>0</th>\n",
       "      <td>8949</td>\n",
       "      <td>city_103</td>\n",
       "      <td>0.920</td>\n",
       "      <td>Male</td>\n",
       "      <td>Has relevent experience</td>\n",
       "      <td>no_enrollment</td>\n",
       "      <td>Graduate</td>\n",
       "      <td>STEM</td>\n",
       "      <td>&gt;20</td>\n",
       "      <td>NaN</td>\n",
       "      <td>NaN</td>\n",
       "      <td>1</td>\n",
       "      <td>36</td>\n",
       "      <td>1.0</td>\n",
       "    </tr>\n",
       "    <tr>\n",
       "      <th>1</th>\n",
       "      <td>29725</td>\n",
       "      <td>city_40</td>\n",
       "      <td>0.776</td>\n",
       "      <td>Male</td>\n",
       "      <td>No relevent experience</td>\n",
       "      <td>no_enrollment</td>\n",
       "      <td>Graduate</td>\n",
       "      <td>STEM</td>\n",
       "      <td>15</td>\n",
       "      <td>50-99</td>\n",
       "      <td>Pvt Ltd</td>\n",
       "      <td>&gt;4</td>\n",
       "      <td>47</td>\n",
       "      <td>0.0</td>\n",
       "    </tr>\n",
       "    <tr>\n",
       "      <th>2</th>\n",
       "      <td>11561</td>\n",
       "      <td>city_21</td>\n",
       "      <td>0.624</td>\n",
       "      <td>NaN</td>\n",
       "      <td>No relevent experience</td>\n",
       "      <td>Full time course</td>\n",
       "      <td>Graduate</td>\n",
       "      <td>STEM</td>\n",
       "      <td>5</td>\n",
       "      <td>NaN</td>\n",
       "      <td>NaN</td>\n",
       "      <td>never</td>\n",
       "      <td>83</td>\n",
       "      <td>0.0</td>\n",
       "    </tr>\n",
       "    <tr>\n",
       "      <th>3</th>\n",
       "      <td>33241</td>\n",
       "      <td>city_115</td>\n",
       "      <td>0.789</td>\n",
       "      <td>NaN</td>\n",
       "      <td>No relevent experience</td>\n",
       "      <td>NaN</td>\n",
       "      <td>Graduate</td>\n",
       "      <td>Business Degree</td>\n",
       "      <td>&lt;1</td>\n",
       "      <td>NaN</td>\n",
       "      <td>Pvt Ltd</td>\n",
       "      <td>never</td>\n",
       "      <td>52</td>\n",
       "      <td>1.0</td>\n",
       "    </tr>\n",
       "    <tr>\n",
       "      <th>4</th>\n",
       "      <td>666</td>\n",
       "      <td>city_162</td>\n",
       "      <td>0.767</td>\n",
       "      <td>Male</td>\n",
       "      <td>Has relevent experience</td>\n",
       "      <td>no_enrollment</td>\n",
       "      <td>Masters</td>\n",
       "      <td>STEM</td>\n",
       "      <td>&gt;20</td>\n",
       "      <td>50-99</td>\n",
       "      <td>Funded Startup</td>\n",
       "      <td>4</td>\n",
       "      <td>8</td>\n",
       "      <td>0.0</td>\n",
       "    </tr>\n",
       "  </tbody>\n",
       "</table>\n",
       "</div>"
      ],
      "text/plain": [
       "   enrollee_id      city  city_development_index gender  \\\n",
       "0         8949  city_103                   0.920   Male   \n",
       "1        29725   city_40                   0.776   Male   \n",
       "2        11561   city_21                   0.624    NaN   \n",
       "3        33241  city_115                   0.789    NaN   \n",
       "4          666  city_162                   0.767   Male   \n",
       "\n",
       "       relevent_experience enrolled_university education_level  \\\n",
       "0  Has relevent experience       no_enrollment        Graduate   \n",
       "1   No relevent experience       no_enrollment        Graduate   \n",
       "2   No relevent experience    Full time course        Graduate   \n",
       "3   No relevent experience                 NaN        Graduate   \n",
       "4  Has relevent experience       no_enrollment         Masters   \n",
       "\n",
       "  major_discipline experience company_size    company_type last_new_job  \\\n",
       "0             STEM        >20          NaN             NaN            1   \n",
       "1             STEM         15        50-99         Pvt Ltd           >4   \n",
       "2             STEM          5          NaN             NaN        never   \n",
       "3  Business Degree         <1          NaN         Pvt Ltd        never   \n",
       "4             STEM        >20        50-99  Funded Startup            4   \n",
       "\n",
       "   training_hours  target  \n",
       "0              36     1.0  \n",
       "1              47     0.0  \n",
       "2              83     0.0  \n",
       "3              52     1.0  \n",
       "4               8     0.0  "
      ]
     },
     "execution_count": 4,
     "metadata": {},
     "output_type": "execute_result"
    }
   ],
   "source": [
    "train.head()"
   ]
  },
  {
   "cell_type": "markdown",
   "id": "55491cf3",
   "metadata": {},
   "source": [
    "1- We have lot of missing values.                                                                                \n",
    "2- Data is of mixed type.                                                                                             \n",
    "3- enrollee_id and city needs to be removed."
   ]
  },
  {
   "cell_type": "code",
   "execution_count": 21,
   "id": "03458285",
   "metadata": {},
   "outputs": [
    {
     "name": "stdout",
     "output_type": "stream",
     "text": [
      "<class 'pandas.core.frame.DataFrame'>\n",
      "RangeIndex: 19158 entries, 0 to 19157\n",
      "Data columns (total 14 columns):\n",
      " #   Column                  Non-Null Count  Dtype  \n",
      "---  ------                  --------------  -----  \n",
      " 0   enrollee_id             19158 non-null  int64  \n",
      " 1   city                    19158 non-null  object \n",
      " 2   city_development_index  19158 non-null  float64\n",
      " 3   gender                  14650 non-null  object \n",
      " 4   relevent_experience     19158 non-null  object \n",
      " 5   enrolled_university     18772 non-null  object \n",
      " 6   education_level         18698 non-null  object \n",
      " 7   major_discipline        16345 non-null  object \n",
      " 8   experience              19093 non-null  object \n",
      " 9   company_size            13220 non-null  object \n",
      " 10  company_type            13018 non-null  object \n",
      " 11  last_new_job            18735 non-null  object \n",
      " 12  training_hours          19158 non-null  int64  \n",
      " 13  target                  19158 non-null  float64\n",
      "dtypes: float64(2), int64(2), object(10)\n",
      "memory usage: 2.0+ MB\n"
     ]
    }
   ],
   "source": [
    "train.info()"
   ]
  },
  {
   "cell_type": "markdown",
   "id": "236b6d14",
   "metadata": {},
   "source": [
    "# EDA"
   ]
  },
  {
   "cell_type": "code",
   "execution_count": 58,
   "id": "74db003d",
   "metadata": {},
   "outputs": [
    {
     "name": "stdout",
     "output_type": "stream",
     "text": [
      "(19158, 12)\n"
     ]
    }
   ],
   "source": [
    "train=train.drop(columns=['enrollee_id','city'],axis=1)\n",
    "\n",
    "print(train.shape)"
   ]
  },
  {
   "cell_type": "code",
   "execution_count": 59,
   "id": "7bb8ca3d",
   "metadata": {},
   "outputs": [
    {
     "name": "stdout",
     "output_type": "stream",
     "text": [
      "Index(['city_development_index', 'gender', 'relevent_experience',\n",
      "       'enrolled_university', 'education_level', 'major_discipline',\n",
      "       'experience', 'company_size', 'company_type', 'last_new_job',\n",
      "       'training_hours', 'target'],\n",
      "      dtype='object')\n"
     ]
    }
   ],
   "source": [
    "print(train.columns)"
   ]
  },
  {
   "cell_type": "code",
   "execution_count": 60,
   "id": "d3d2fd2c",
   "metadata": {},
   "outputs": [
    {
     "name": "stdout",
     "output_type": "stream",
     "text": [
      "These are the numerical columns: \n",
      "  Index(['city_development_index', 'training_hours', 'target'], dtype='object')\n",
      "These are the categorical columns: \n",
      "  Index(['gender', 'relevent_experience', 'enrolled_university',\n",
      "       'education_level', 'major_discipline', 'experience', 'company_size',\n",
      "       'company_type', 'last_new_job'],\n",
      "      dtype='object')\n"
     ]
    }
   ],
   "source": [
    "#numerical columns\n",
    "num_col=train.select_dtypes(exclude='object').columns\n",
    "print(\"These are the numerical columns: \\n \",num_col)\n",
    "\n",
    "#categorical columns\n",
    "cat_col=train.select_dtypes(include='object').columns\n",
    "print(\"These are the categorical columns: \\n \",cat_col)"
   ]
  },
  {
   "cell_type": "markdown",
   "id": "27f9e7a3",
   "metadata": {},
   "source": [
    "#### Let's have a look at the numerical columns."
   ]
  },
  {
   "cell_type": "code",
   "execution_count": 63,
   "id": "5e40367d",
   "metadata": {},
   "outputs": [
    {
     "data": {
      "image/png": "[encoded data removed]",
      "text/plain": [
       "<Figure size 432x288 with 1 Axes>"
      ]
     },
     "metadata": {},
     "output_type": "display_data"
    }
   ],
   "source": [
    "train['city_development_index'].plot(kind = 'hist',color=\"blue\")\n",
    "plt.ylabel(\"Frequency\")\n",
    "plt.title('City development index')\n",
    "#sns.set_style(\"darkgrid\")\n",
    "plt.show()\n",
    "#data is skewed to the left.......not a normal distribution"
   ]
  },
  {
   "cell_type": "code",
   "execution_count": 64,
   "id": "b4ebbcba",
   "metadata": {},
   "outputs": [
    {
     "data": {
      "image/png": "[encoded data removed]",
      "text/plain": [
       "<Figure size 432x288 with 1 Axes>"
      ]
     },
     "metadata": {},
     "output_type": "display_data"
    }
   ],
   "source": [
    "train['training_hours'].plot(kind = 'hist',color=\"blue\")\n",
    "plt.ylabel(\"Time\")\n",
    "plt.title('Training_hours')\n",
    "plt.show()\n",
    "#data is skewed to the right.......not a normal distribution\n",
    "#Numerical variable are normally distributed. We could transform them to be gaussian like using power transform."
   ]
  },
  {
   "cell_type": "markdown",
   "id": "ee8b4357",
   "metadata": {},
   "source": [
    "#### We will do Power transformation for the numeric data"
   ]
  },
  {
   "cell_type": "code",
   "execution_count": 38,
   "id": "641d5713",
   "metadata": {},
   "outputs": [
    {
     "name": "stdout",
     "output_type": "stream",
     "text": [
      "Collecting mplcyberpunk\n",
      "  Downloading mplcyberpunk-0.6.0-py3-none-any.whl (6.0 kB)\n",
      "Requirement already satisfied: matplotlib in c:\\users\\preeti\\anaconda3\\lib\\site-packages (from mplcyberpunk) (3.3.4)\n",
      "Requirement already satisfied: kiwisolver>=1.0.1 in c:\\users\\preeti\\anaconda3\\lib\\site-packages (from matplotlib->mplcyberpunk) (1.3.1)\n",
      "Requirement already satisfied: numpy>=1.15 in c:\\users\\preeti\\anaconda3\\lib\\site-packages (from matplotlib->mplcyberpunk) (1.22.4)\n",
      "Requirement already satisfied: python-dateutil>=2.1 in c:\\users\\preeti\\anaconda3\\lib\\site-packages (from matplotlib->mplcyberpunk) (2.8.1)\n",
      "Requirement already satisfied: pillow>=6.2.0 in c:\\users\\preeti\\anaconda3\\lib\\site-packages (from matplotlib->mplcyberpunk) (8.2.0)\n",
      "Requirement already satisfied: pyparsing!=2.0.4,!=2.1.2,!=2.1.6,>=2.0.3 in c:\\users\\preeti\\anaconda3\\lib\\site-packages (from matplotlib->mplcyberpunk) (2.4.7)\n",
      "Requirement already satisfied: cycler>=0.10 in c:\\users\\preeti\\anaconda3\\lib\\site-packages (from matplotlib->mplcyberpunk) (0.10.0)\n",
      "Requirement already satisfied: six in c:\\users\\preeti\\anaconda3\\lib\\site-packages (from cycler>=0.10->matplotlib->mplcyberpunk) (1.15.0)\n",
      "Installing collected packages: mplcyberpunk\n",
      "Successfully installed mplcyberpunk-0.6.0\n"
     ]
    }
   ],
   "source": [
    "!pip install mplcyberpunk"
   ]
  },
  {
   "cell_type": "code",
   "execution_count": 62,
   "id": "402fcf08",
   "metadata": {},
   "outputs": [
    {
     "data": {
      "image/png": "[encoded data removed]",
      "text/plain": [
       "<Figure size 432x288 with 1 Axes>"
      ]
     },
     "metadata": {},
     "output_type": "display_data"
    }
   ],
   "source": [
    "import mplcyberpunk\n",
    "plt.style.use(\"cyberpunk\")\n",
    "data=train['target'].value_counts()\n",
    "plt.pie(data,labels=data.index,autopct='%0.1f%%',radius=1.5,counterclock=False)\n",
    "#plt.style.use('dark_background')\n",
    "plt.show()\n",
    "#It clearly shows that the data is imbalanced( in the ratio of 1:3)"
   ]
  },
  {
   "cell_type": "code",
   "execution_count": 40,
   "id": "d716bee0",
   "metadata": {},
   "outputs": [
    {
     "name": "stderr",
     "output_type": "stream",
     "text": [
      "C:\\Users\\Preeti\\anaconda3\\lib\\site-packages\\seaborn\\_decorators.py:36: FutureWarning: Pass the following variable as a keyword arg: x. From version 0.12, the only valid positional argument will be `data`, and passing other arguments without an explicit keyword will result in an error or misinterpretation.\n",
      "  warnings.warn(\n"
     ]
    },
    {
     "data": {
      "image/png": "[encoded data removed]",
      "text/plain": [
       "<Figure size 360x360 with 1 Axes>"
      ]
     },
     "metadata": {},
     "output_type": "display_data"
    }
   ],
   "source": [
    "count = train['target'].value_counts()\n",
    "plt.figure(figsize = (5,5))\n",
    "sns.countplot(train.target,palette = 'magma')\n",
    "plt.title('distribution of target')\n",
    "plt.xlabel('target values')\n",
    "plt.ylabel('count')\n",
    "plt.show()"
   ]
  },
  {
   "cell_type": "markdown",
   "id": "358c256f",
   "metadata": {},
   "source": [
    "#### Now let's have a look at the categorical variables."
   ]
  },
  {
   "cell_type": "code",
   "execution_count": 41,
   "id": "3cf18368",
   "metadata": {},
   "outputs": [
    {
     "data": {
      "image/png": "[encoded data removed]",
      "text/plain": [
       "<Figure size 720x720 with 6 Axes>"
      ]
     },
     "metadata": {},
     "output_type": "display_data"
    }
   ],
   "source": [
    "plt.figure(figsize=[10,10])\n",
    "\n",
    "col=['gender','major_discipline','company_type','company_size','enrolled_university','education_level']\n",
    "j=1\n",
    "\n",
    "for i in col:\n",
    "    plt.subplot(3,2,j)\n",
    "    index =train[i].value_counts().index\n",
    "    sns.countplot(y=train[i],order=index)\n",
    "    sns.despine()\n",
    "    plt.title(\"Countplot of {}\".format(i))\n",
    "    j=j+1\n",
    "plt.tight_layout()"
   ]
  },
  {
   "cell_type": "markdown",
   "id": "c60585ed",
   "metadata": {},
   "source": [
    "In general categorical features have one value in excess compared to other values "
   ]
  },
  {
   "cell_type": "code",
   "execution_count": 42,
   "id": "fbb45ce4",
   "metadata": {},
   "outputs": [
    {
     "data": {
      "image/png": "[encoded data removed]",
      "text/plain": [
       "<Figure size 720x720 with 4 Axes>"
      ]
     },
     "metadata": {},
     "output_type": "display_data"
    }
   ],
   "source": [
    "plt.figure(figsize=[10,10])\n",
    "\n",
    "features=['relevent_experience','enrolled_university','last_new_job','experience']\n",
    "n=1\n",
    "\n",
    "for f in features:\n",
    "    plt.subplot(2,2,n)\n",
    "    \n",
    "    data=100*train[train['target']==1][f].value_counts()/train[f].value_counts()\n",
    "    plt.pie(data,labels=data.index,autopct='%0.1f%%',radius=1.3,counterclock=False)\n",
    "    n=n+1\n",
    "plt.tight_layout()"
   ]
  },
  {
   "cell_type": "code",
   "execution_count": 43,
   "id": "b20995fb",
   "metadata": {},
   "outputs": [
    {
     "data": {
      "text/plain": [
       "city_development_index     93\n",
       "gender                      3\n",
       "relevent_experience         2\n",
       "enrolled_university         3\n",
       "education_level             5\n",
       "major_discipline            6\n",
       "experience                 22\n",
       "company_size                8\n",
       "company_type                6\n",
       "last_new_job                6\n",
       "training_hours            241\n",
       "target                      2\n",
       "dtype: int64"
      ]
     },
     "execution_count": 43,
     "metadata": {},
     "output_type": "execute_result"
    }
   ],
   "source": [
    "train.nunique()"
   ]
  },
  {
   "cell_type": "code",
   "execution_count": 6,
   "id": "d88905c1",
   "metadata": {},
   "outputs": [
    {
     "data": {
      "text/plain": [
       ">20    3286\n",
       "5      1430\n",
       "4      1403\n",
       "3      1354\n",
       "6      1216\n",
       "2      1127\n",
       "7      1028\n",
       "10      985\n",
       "9       980\n",
       "8       802\n",
       "15      686\n",
       "11      664\n",
       "14      586\n",
       "1       549\n",
       "<1      522\n",
       "16      508\n",
       "12      494\n",
       "13      399\n",
       "17      342\n",
       "19      304\n",
       "18      280\n",
       "20      148\n",
       "Name: experience, dtype: int64"
      ]
     },
     "execution_count": 6,
     "metadata": {},
     "output_type": "execute_result"
    }
   ],
   "source": [
    "train['experience'].value_counts()"
   ]
  },
  {
   "cell_type": "code",
   "execution_count": 20,
   "id": "24bbd10c",
   "metadata": {},
   "outputs": [],
   "source": [
    "train['experience'].replace({'<1':1,\n",
    "                             '1':2,\n",
    "                             '2':2,\n",
    "                             '3':2,\n",
    "                             '4':2,\n",
    "                             '5':2,\n",
    "                             '6':3,\n",
    "                             '7':3,\n",
    "                             '8':3,\n",
    "                             '9':3,\n",
    "                             '10':3,\n",
    "                             '11':4,\n",
    "                             '12':4,\n",
    "                             '13':4,\n",
    "                             '14':4,\n",
    "                             '15':4,\n",
    "                             '16':5,\n",
    "                             '17':5,\n",
    "                             '18':5,\n",
    "                             '19':5,\n",
    "                             '20':5,\n",
    "                             '>20':6},inplace=True)"
   ]
  },
  {
   "cell_type": "code",
   "execution_count": 8,
   "id": "7cdb982d",
   "metadata": {},
   "outputs": [
    {
     "data": {
      "text/plain": [
       "2.0    5863\n",
       "3.0    5011\n",
       "6.0    3286\n",
       "4.0    2829\n",
       "5.0    1582\n",
       "1.0     522\n",
       "Name: experience, dtype: int64"
      ]
     },
     "execution_count": 8,
     "metadata": {},
     "output_type": "execute_result"
    }
   ],
   "source": [
    "train['experience'].value_counts()"
   ]
  },
  {
   "cell_type": "code",
   "execution_count": 9,
   "id": "834e52f3",
   "metadata": {},
   "outputs": [
    {
     "data": {
      "text/plain": [
       "6"
      ]
     },
     "execution_count": 9,
     "metadata": {},
     "output_type": "execute_result"
    }
   ],
   "source": [
    "train['experience'].nunique()"
   ]
  },
  {
   "cell_type": "code",
   "execution_count": 51,
   "id": "c153487d",
   "metadata": {},
   "outputs": [
    {
     "data": {
      "image/png": "[encoded data removed]",
      "text/plain": [
       "<Figure size 432x288 with 1 Axes>"
      ]
     },
     "metadata": {},
     "output_type": "display_data"
    }
   ],
   "source": [
    "data=100*train[train['target']==1]['experience'].value_counts()/train['experience'].value_counts()\n",
    "plt.pie(data,labels=data.index,autopct='%0.1f%%',radius=1.3,counterclock=False)\n",
    "mplcyberpunk.add_glow_effects()\n",
    "plt.show()"
   ]
  },
  {
   "cell_type": "markdown",
   "id": "396238e5",
   "metadata": {},
   "source": [
    "### Let see how many and what percentage of missing values are there."
   ]
  },
  {
   "cell_type": "code",
   "execution_count": 191,
   "id": "062fb2dd",
   "metadata": {},
   "outputs": [
    {
     "data": {
      "image/png": "[encoded data removed]",
      "text/plain": [
       "<Figure size 1728x720 with 3 Axes>"
      ]
     },
     "metadata": {},
     "output_type": "display_data"
    }
   ],
   "source": [
    "missingno.bar(train)\n",
    "plt.show()"
   ]
  },
  {
   "cell_type": "code",
   "execution_count": 23,
   "id": "6052bb13",
   "metadata": {},
   "outputs": [
    {
     "name": "stdout",
     "output_type": "stream",
     "text": [
      "Total rows in the data: 19158\n",
      "Number of rows that contain missing values: 8955\n",
      "Percentage of rows that contains missing values: 46.74287503914814\n"
     ]
    }
   ],
   "source": [
    "no_missing_data = train.dropna()\n",
    "total_values = len(train)\n",
    "no_missing_values = len(no_missing_data)\n",
    "print('Total rows in the data:',total_values)\n",
    "print('Number of rows that contain missing values:' ,  no_missing_values )\n",
    "print('Percentage of rows that contains missing values:', 100*(no_missing_values ) / total_values )"
   ]
  },
  {
   "cell_type": "markdown",
   "id": "63d31373",
   "metadata": {},
   "source": [
    "We have lot of missing data.......we will simply remove the columns that have more than 25% of missing values."
   ]
  },
  {
   "cell_type": "code",
   "execution_count": 24,
   "id": "d7d9f32a",
   "metadata": {},
   "outputs": [
    {
     "data": {
      "text/plain": [
       "city_development_index     0.000000\n",
       "gender                    23.530640\n",
       "relevent_experience        0.000000\n",
       "enrolled_university        2.014824\n",
       "education_level            2.401086\n",
       "major_discipline          14.683161\n",
       "experience                 0.339284\n",
       "company_size              30.994885\n",
       "company_type              32.049274\n",
       "last_new_job               2.207955\n",
       "training_hours             0.000000\n",
       "target                     0.000000\n",
       "dtype: float64"
      ]
     },
     "execution_count": 24,
     "metadata": {},
     "output_type": "execute_result"
    }
   ],
   "source": [
    "(train.isna().sum()*100)/len(train)"
   ]
  },
  {
   "cell_type": "code",
   "execution_count": 25,
   "id": "45210dc0",
   "metadata": {},
   "outputs": [
    {
     "data": {
      "text/html": [
       "<div>\n",
       "<style scoped>\n",
       "    .dataframe tbody tr th:only-of-type {\n",
       "        vertical-align: middle;\n",
       "    }\n",
       "\n",
       "    .dataframe tbody tr th {\n",
       "        vertical-align: top;\n",
       "    }\n",
       "\n",
       "    .dataframe thead th {\n",
       "        text-align: right;\n",
       "    }\n",
       "</style>\n",
       "<table border=\"1\" class=\"dataframe\">\n",
       "  <thead>\n",
       "    <tr style=\"text-align: right;\">\n",
       "      <th></th>\n",
       "      <th>No of missing values</th>\n",
       "      <th>Percentage of missing values</th>\n",
       "    </tr>\n",
       "  </thead>\n",
       "  <tbody>\n",
       "    <tr>\n",
       "      <th>city_development_index</th>\n",
       "      <td>0</td>\n",
       "      <td>0.000000</td>\n",
       "    </tr>\n",
       "    <tr>\n",
       "      <th>gender</th>\n",
       "      <td>4508</td>\n",
       "      <td>23.530640</td>\n",
       "    </tr>\n",
       "    <tr>\n",
       "      <th>relevent_experience</th>\n",
       "      <td>0</td>\n",
       "      <td>0.000000</td>\n",
       "    </tr>\n",
       "    <tr>\n",
       "      <th>enrolled_university</th>\n",
       "      <td>386</td>\n",
       "      <td>2.014824</td>\n",
       "    </tr>\n",
       "    <tr>\n",
       "      <th>education_level</th>\n",
       "      <td>460</td>\n",
       "      <td>2.401086</td>\n",
       "    </tr>\n",
       "    <tr>\n",
       "      <th>major_discipline</th>\n",
       "      <td>2813</td>\n",
       "      <td>14.683161</td>\n",
       "    </tr>\n",
       "    <tr>\n",
       "      <th>experience</th>\n",
       "      <td>65</td>\n",
       "      <td>0.339284</td>\n",
       "    </tr>\n",
       "    <tr>\n",
       "      <th>company_size</th>\n",
       "      <td>5938</td>\n",
       "      <td>30.994885</td>\n",
       "    </tr>\n",
       "    <tr>\n",
       "      <th>company_type</th>\n",
       "      <td>6140</td>\n",
       "      <td>32.049274</td>\n",
       "    </tr>\n",
       "    <tr>\n",
       "      <th>last_new_job</th>\n",
       "      <td>423</td>\n",
       "      <td>2.207955</td>\n",
       "    </tr>\n",
       "    <tr>\n",
       "      <th>training_hours</th>\n",
       "      <td>0</td>\n",
       "      <td>0.000000</td>\n",
       "    </tr>\n",
       "    <tr>\n",
       "      <th>target</th>\n",
       "      <td>0</td>\n",
       "      <td>0.000000</td>\n",
       "    </tr>\n",
       "  </tbody>\n",
       "</table>\n",
       "</div>"
      ],
      "text/plain": [
       "                        No of missing values  Percentage of missing values\n",
       "city_development_index                     0                      0.000000\n",
       "gender                                  4508                     23.530640\n",
       "relevent_experience                        0                      0.000000\n",
       "enrolled_university                      386                      2.014824\n",
       "education_level                          460                      2.401086\n",
       "major_discipline                        2813                     14.683161\n",
       "experience                                65                      0.339284\n",
       "company_size                            5938                     30.994885\n",
       "company_type                            6140                     32.049274\n",
       "last_new_job                             423                      2.207955\n",
       "training_hours                             0                      0.000000\n",
       "target                                     0                      0.000000"
      ]
     },
     "execution_count": 25,
     "metadata": {},
     "output_type": "execute_result"
    }
   ],
   "source": [
    "ms_per = pd.DataFrame({'No of missing values':train.isnull().sum(),'Percentage of missing values':100*train.isnull().sum()/len(train)})\n",
    "ms_per"
   ]
  },
  {
   "cell_type": "code",
   "execution_count": 26,
   "id": "23303641",
   "metadata": {},
   "outputs": [
    {
     "data": {
      "text/html": [
       "<div>\n",
       "<style scoped>\n",
       "    .dataframe tbody tr th:only-of-type {\n",
       "        vertical-align: middle;\n",
       "    }\n",
       "\n",
       "    .dataframe tbody tr th {\n",
       "        vertical-align: top;\n",
       "    }\n",
       "\n",
       "    .dataframe thead th {\n",
       "        text-align: right;\n",
       "    }\n",
       "</style>\n",
       "<table border=\"1\" class=\"dataframe\">\n",
       "  <thead>\n",
       "    <tr style=\"text-align: right;\">\n",
       "      <th></th>\n",
       "      <th>No of missing values</th>\n",
       "      <th>Percentage of missing values</th>\n",
       "    </tr>\n",
       "  </thead>\n",
       "  <tbody>\n",
       "    <tr>\n",
       "      <th>gender</th>\n",
       "      <td>4508</td>\n",
       "      <td>23.530640</td>\n",
       "    </tr>\n",
       "    <tr>\n",
       "      <th>enrolled_university</th>\n",
       "      <td>386</td>\n",
       "      <td>2.014824</td>\n",
       "    </tr>\n",
       "    <tr>\n",
       "      <th>education_level</th>\n",
       "      <td>460</td>\n",
       "      <td>2.401086</td>\n",
       "    </tr>\n",
       "    <tr>\n",
       "      <th>major_discipline</th>\n",
       "      <td>2813</td>\n",
       "      <td>14.683161</td>\n",
       "    </tr>\n",
       "    <tr>\n",
       "      <th>experience</th>\n",
       "      <td>65</td>\n",
       "      <td>0.339284</td>\n",
       "    </tr>\n",
       "    <tr>\n",
       "      <th>company_size</th>\n",
       "      <td>5938</td>\n",
       "      <td>30.994885</td>\n",
       "    </tr>\n",
       "    <tr>\n",
       "      <th>company_type</th>\n",
       "      <td>6140</td>\n",
       "      <td>32.049274</td>\n",
       "    </tr>\n",
       "    <tr>\n",
       "      <th>last_new_job</th>\n",
       "      <td>423</td>\n",
       "      <td>2.207955</td>\n",
       "    </tr>\n",
       "  </tbody>\n",
       "</table>\n",
       "</div>"
      ],
      "text/plain": [
       "                     No of missing values  Percentage of missing values\n",
       "gender                               4508                     23.530640\n",
       "enrolled_university                   386                      2.014824\n",
       "education_level                       460                      2.401086\n",
       "major_discipline                     2813                     14.683161\n",
       "experience                             65                      0.339284\n",
       "company_size                         5938                     30.994885\n",
       "company_type                         6140                     32.049274\n",
       "last_new_job                          423                      2.207955"
      ]
     },
     "execution_count": 26,
     "metadata": {},
     "output_type": "execute_result"
    }
   ],
   "source": [
    "ms_per[ms_per['No of missing values'] > 0]"
   ]
  },
  {
   "cell_type": "markdown",
   "id": "9fb33f50",
   "metadata": {},
   "source": [
    "1- We need to handle the null values.                                                                                  \n",
    "2- Do label encoding/one hot encoding for categorical variables.                                                         \n",
    "3- Do power transformation for numerical variables.                                                                         \n",
    "3- We will oversampling as target is imbalanced."
   ]
  },
  {
   "cell_type": "code",
   "execution_count": 10,
   "id": "871bf26b",
   "metadata": {},
   "outputs": [],
   "source": [
    "from sklearn.preprocessing import LabelEncoder, StandardScaler, OrdinalEncoder,PowerTransformer,MinMaxScaler\n",
    "from sklearn.experimental import enable_iterative_imputer\n",
    "from sklearn.impute import IterativeImputer\n",
    "from sklearn.linear_model import LinearRegression\n",
    "from sklearn.neighbors import KNeighborsClassifier\n",
    "#from sklearn.model_selection import train_test_split"
   ]
  },
  {
   "cell_type": "code",
   "execution_count": 21,
   "id": "090a6190",
   "metadata": {},
   "outputs": [
    {
     "data": {
      "text/html": [
       "<div>\n",
       "<style scoped>\n",
       "    .dataframe tbody tr th:only-of-type {\n",
       "        vertical-align: middle;\n",
       "    }\n",
       "\n",
       "    .dataframe tbody tr th {\n",
       "        vertical-align: top;\n",
       "    }\n",
       "\n",
       "    .dataframe thead th {\n",
       "        text-align: right;\n",
       "    }\n",
       "</style>\n",
       "<table border=\"1\" class=\"dataframe\">\n",
       "  <thead>\n",
       "    <tr style=\"text-align: right;\">\n",
       "      <th></th>\n",
       "      <th>city_development_index</th>\n",
       "      <th>gender</th>\n",
       "      <th>relevent_experience</th>\n",
       "      <th>enrolled_university</th>\n",
       "      <th>education_level</th>\n",
       "      <th>major_discipline</th>\n",
       "      <th>experience</th>\n",
       "      <th>company_size</th>\n",
       "      <th>company_type</th>\n",
       "      <th>last_new_job</th>\n",
       "      <th>training_hours</th>\n",
       "      <th>target</th>\n",
       "    </tr>\n",
       "  </thead>\n",
       "  <tbody>\n",
       "    <tr>\n",
       "      <th>0</th>\n",
       "      <td>0.920</td>\n",
       "      <td>Male</td>\n",
       "      <td>Has relevent experience</td>\n",
       "      <td>no_enrollment</td>\n",
       "      <td>Graduate</td>\n",
       "      <td>STEM</td>\n",
       "      <td>6.0</td>\n",
       "      <td>NaN</td>\n",
       "      <td>NaN</td>\n",
       "      <td>1</td>\n",
       "      <td>36</td>\n",
       "      <td>1.0</td>\n",
       "    </tr>\n",
       "    <tr>\n",
       "      <th>1</th>\n",
       "      <td>0.776</td>\n",
       "      <td>Male</td>\n",
       "      <td>No relevent experience</td>\n",
       "      <td>no_enrollment</td>\n",
       "      <td>Graduate</td>\n",
       "      <td>STEM</td>\n",
       "      <td>4.0</td>\n",
       "      <td>50-99</td>\n",
       "      <td>Pvt Ltd</td>\n",
       "      <td>&gt;4</td>\n",
       "      <td>47</td>\n",
       "      <td>0.0</td>\n",
       "    </tr>\n",
       "    <tr>\n",
       "      <th>2</th>\n",
       "      <td>0.624</td>\n",
       "      <td>NaN</td>\n",
       "      <td>No relevent experience</td>\n",
       "      <td>Full time course</td>\n",
       "      <td>Graduate</td>\n",
       "      <td>STEM</td>\n",
       "      <td>2.0</td>\n",
       "      <td>NaN</td>\n",
       "      <td>NaN</td>\n",
       "      <td>never</td>\n",
       "      <td>83</td>\n",
       "      <td>0.0</td>\n",
       "    </tr>\n",
       "    <tr>\n",
       "      <th>3</th>\n",
       "      <td>0.789</td>\n",
       "      <td>NaN</td>\n",
       "      <td>No relevent experience</td>\n",
       "      <td>NaN</td>\n",
       "      <td>Graduate</td>\n",
       "      <td>Business Degree</td>\n",
       "      <td>1.0</td>\n",
       "      <td>NaN</td>\n",
       "      <td>Pvt Ltd</td>\n",
       "      <td>never</td>\n",
       "      <td>52</td>\n",
       "      <td>1.0</td>\n",
       "    </tr>\n",
       "    <tr>\n",
       "      <th>4</th>\n",
       "      <td>0.767</td>\n",
       "      <td>Male</td>\n",
       "      <td>Has relevent experience</td>\n",
       "      <td>no_enrollment</td>\n",
       "      <td>Masters</td>\n",
       "      <td>STEM</td>\n",
       "      <td>6.0</td>\n",
       "      <td>50-99</td>\n",
       "      <td>Funded Startup</td>\n",
       "      <td>4</td>\n",
       "      <td>8</td>\n",
       "      <td>0.0</td>\n",
       "    </tr>\n",
       "  </tbody>\n",
       "</table>\n",
       "</div>"
      ],
      "text/plain": [
       "   city_development_index gender      relevent_experience enrolled_university  \\\n",
       "0                   0.920   Male  Has relevent experience       no_enrollment   \n",
       "1                   0.776   Male   No relevent experience       no_enrollment   \n",
       "2                   0.624    NaN   No relevent experience    Full time course   \n",
       "3                   0.789    NaN   No relevent experience                 NaN   \n",
       "4                   0.767   Male  Has relevent experience       no_enrollment   \n",
       "\n",
       "  education_level major_discipline  experience company_size    company_type  \\\n",
       "0        Graduate             STEM         6.0          NaN             NaN   \n",
       "1        Graduate             STEM         4.0        50-99         Pvt Ltd   \n",
       "2        Graduate             STEM         2.0          NaN             NaN   \n",
       "3        Graduate  Business Degree         1.0          NaN         Pvt Ltd   \n",
       "4         Masters             STEM         6.0        50-99  Funded Startup   \n",
       "\n",
       "  last_new_job  training_hours  target  \n",
       "0            1              36     1.0  \n",
       "1           >4              47     0.0  \n",
       "2        never              83     0.0  \n",
       "3        never              52     1.0  \n",
       "4            4               8     0.0  "
      ]
     },
     "execution_count": 21,
     "metadata": {},
     "output_type": "execute_result"
    }
   ],
   "source": [
    "train.head()"
   ]
  },
  {
   "cell_type": "code",
   "execution_count": 22,
   "id": "2ffe041d",
   "metadata": {},
   "outputs": [],
   "source": [
    "col=[\"gender\",\"enrolled_university\",\"relevent_experience\",\"education_level\",\"major_discipline\",\"company_size\",\"company_type\",\"last_new_job\"]\n",
    "#only eight col and not nine as we have already converted experience in the desired format.\n",
    "\n",
    "train1 = pd.get_dummies(train, columns=col,drop_first=True)\n",
    "\n",
    "#test = pd.get_dummies(test, columns=[\"gender\",\"enrolled_university\",\"relevent_experience\",\"education_level\",\"major_discipline\",\"company_size\",\"company_type\"],drop_first=True)"
   ]
  },
  {
   "cell_type": "code",
   "execution_count": 23,
   "id": "adf3fda1",
   "metadata": {},
   "outputs": [
    {
     "data": {
      "text/html": [
       "<div>\n",
       "<style scoped>\n",
       "    .dataframe tbody tr th:only-of-type {\n",
       "        vertical-align: middle;\n",
       "    }\n",
       "\n",
       "    .dataframe tbody tr th {\n",
       "        vertical-align: top;\n",
       "    }\n",
       "\n",
       "    .dataframe thead th {\n",
       "        text-align: right;\n",
       "    }\n",
       "</style>\n",
       "<table border=\"1\" class=\"dataframe\">\n",
       "  <thead>\n",
       "    <tr style=\"text-align: right;\">\n",
       "      <th></th>\n",
       "      <th>city_development_index</th>\n",
       "      <th>experience</th>\n",
       "      <th>training_hours</th>\n",
       "      <th>target</th>\n",
       "      <th>gender_Male</th>\n",
       "      <th>gender_Other</th>\n",
       "      <th>enrolled_university_Part time course</th>\n",
       "      <th>enrolled_university_no_enrollment</th>\n",
       "      <th>relevent_experience_No relevent experience</th>\n",
       "      <th>education_level_High School</th>\n",
       "      <th>...</th>\n",
       "      <th>company_type_Funded Startup</th>\n",
       "      <th>company_type_NGO</th>\n",
       "      <th>company_type_Other</th>\n",
       "      <th>company_type_Public Sector</th>\n",
       "      <th>company_type_Pvt Ltd</th>\n",
       "      <th>last_new_job_2</th>\n",
       "      <th>last_new_job_3</th>\n",
       "      <th>last_new_job_4</th>\n",
       "      <th>last_new_job_&gt;4</th>\n",
       "      <th>last_new_job_never</th>\n",
       "    </tr>\n",
       "  </thead>\n",
       "  <tbody>\n",
       "    <tr>\n",
       "      <th>0</th>\n",
       "      <td>0.920</td>\n",
       "      <td>6.0</td>\n",
       "      <td>36</td>\n",
       "      <td>1.0</td>\n",
       "      <td>1</td>\n",
       "      <td>0</td>\n",
       "      <td>0</td>\n",
       "      <td>1</td>\n",
       "      <td>0</td>\n",
       "      <td>0</td>\n",
       "      <td>...</td>\n",
       "      <td>0</td>\n",
       "      <td>0</td>\n",
       "      <td>0</td>\n",
       "      <td>0</td>\n",
       "      <td>0</td>\n",
       "      <td>0</td>\n",
       "      <td>0</td>\n",
       "      <td>0</td>\n",
       "      <td>0</td>\n",
       "      <td>0</td>\n",
       "    </tr>\n",
       "    <tr>\n",
       "      <th>1</th>\n",
       "      <td>0.776</td>\n",
       "      <td>4.0</td>\n",
       "      <td>47</td>\n",
       "      <td>0.0</td>\n",
       "      <td>1</td>\n",
       "      <td>0</td>\n",
       "      <td>0</td>\n",
       "      <td>1</td>\n",
       "      <td>1</td>\n",
       "      <td>0</td>\n",
       "      <td>...</td>\n",
       "      <td>0</td>\n",
       "      <td>0</td>\n",
       "      <td>0</td>\n",
       "      <td>0</td>\n",
       "      <td>1</td>\n",
       "      <td>0</td>\n",
       "      <td>0</td>\n",
       "      <td>0</td>\n",
       "      <td>1</td>\n",
       "      <td>0</td>\n",
       "    </tr>\n",
       "    <tr>\n",
       "      <th>2</th>\n",
       "      <td>0.624</td>\n",
       "      <td>2.0</td>\n",
       "      <td>83</td>\n",
       "      <td>0.0</td>\n",
       "      <td>0</td>\n",
       "      <td>0</td>\n",
       "      <td>0</td>\n",
       "      <td>0</td>\n",
       "      <td>1</td>\n",
       "      <td>0</td>\n",
       "      <td>...</td>\n",
       "      <td>0</td>\n",
       "      <td>0</td>\n",
       "      <td>0</td>\n",
       "      <td>0</td>\n",
       "      <td>0</td>\n",
       "      <td>0</td>\n",
       "      <td>0</td>\n",
       "      <td>0</td>\n",
       "      <td>0</td>\n",
       "      <td>1</td>\n",
       "    </tr>\n",
       "    <tr>\n",
       "      <th>3</th>\n",
       "      <td>0.789</td>\n",
       "      <td>1.0</td>\n",
       "      <td>52</td>\n",
       "      <td>1.0</td>\n",
       "      <td>0</td>\n",
       "      <td>0</td>\n",
       "      <td>0</td>\n",
       "      <td>0</td>\n",
       "      <td>1</td>\n",
       "      <td>0</td>\n",
       "      <td>...</td>\n",
       "      <td>0</td>\n",
       "      <td>0</td>\n",
       "      <td>0</td>\n",
       "      <td>0</td>\n",
       "      <td>1</td>\n",
       "      <td>0</td>\n",
       "      <td>0</td>\n",
       "      <td>0</td>\n",
       "      <td>0</td>\n",
       "      <td>1</td>\n",
       "    </tr>\n",
       "    <tr>\n",
       "      <th>4</th>\n",
       "      <td>0.767</td>\n",
       "      <td>6.0</td>\n",
       "      <td>8</td>\n",
       "      <td>0.0</td>\n",
       "      <td>1</td>\n",
       "      <td>0</td>\n",
       "      <td>0</td>\n",
       "      <td>1</td>\n",
       "      <td>0</td>\n",
       "      <td>0</td>\n",
       "      <td>...</td>\n",
       "      <td>1</td>\n",
       "      <td>0</td>\n",
       "      <td>0</td>\n",
       "      <td>0</td>\n",
       "      <td>0</td>\n",
       "      <td>0</td>\n",
       "      <td>0</td>\n",
       "      <td>1</td>\n",
       "      <td>0</td>\n",
       "      <td>0</td>\n",
       "    </tr>\n",
       "  </tbody>\n",
       "</table>\n",
       "<p>5 rows × 35 columns</p>\n",
       "</div>"
      ],
      "text/plain": [
       "   city_development_index  experience  training_hours  target  gender_Male  \\\n",
       "0                   0.920         6.0              36     1.0            1   \n",
       "1                   0.776         4.0              47     0.0            1   \n",
       "2                   0.624         2.0              83     0.0            0   \n",
       "3                   0.789         1.0              52     1.0            0   \n",
       "4                   0.767         6.0               8     0.0            1   \n",
       "\n",
       "   gender_Other  enrolled_university_Part time course  \\\n",
       "0             0                                     0   \n",
       "1             0                                     0   \n",
       "2             0                                     0   \n",
       "3             0                                     0   \n",
       "4             0                                     0   \n",
       "\n",
       "   enrolled_university_no_enrollment  \\\n",
       "0                                  1   \n",
       "1                                  1   \n",
       "2                                  0   \n",
       "3                                  0   \n",
       "4                                  1   \n",
       "\n",
       "   relevent_experience_No relevent experience  education_level_High School  \\\n",
       "0                                           0                            0   \n",
       "1                                           1                            0   \n",
       "2                                           1                            0   \n",
       "3                                           1                            0   \n",
       "4                                           0                            0   \n",
       "\n",
       "   ...  company_type_Funded Startup  company_type_NGO  company_type_Other  \\\n",
       "0  ...                            0                 0                   0   \n",
       "1  ...                            0                 0                   0   \n",
       "2  ...                            0                 0                   0   \n",
       "3  ...                            0                 0                   0   \n",
       "4  ...                            1                 0                   0   \n",
       "\n",
       "   company_type_Public Sector  company_type_Pvt Ltd  last_new_job_2  \\\n",
       "0                           0                     0               0   \n",
       "1                           0                     1               0   \n",
       "2                           0                     0               0   \n",
       "3                           0                     1               0   \n",
       "4                           0                     0               0   \n",
       "\n",
       "   last_new_job_3  last_new_job_4  last_new_job_>4  last_new_job_never  \n",
       "0               0               0                0                   0  \n",
       "1               0               0                1                   0  \n",
       "2               0               0                0                   1  \n",
       "3               0               0                0                   1  \n",
       "4               0               1                0                   0  \n",
       "\n",
       "[5 rows x 35 columns]"
      ]
     },
     "execution_count": 23,
     "metadata": {},
     "output_type": "execute_result"
    }
   ],
   "source": [
    "train1.head()"
   ]
  },
  {
   "cell_type": "code",
   "execution_count": 24,
   "id": "6d049812",
   "metadata": {},
   "outputs": [
    {
     "name": "stdout",
     "output_type": "stream",
     "text": [
      "<class 'pandas.core.frame.DataFrame'>\n",
      "RangeIndex: 19158 entries, 0 to 19157\n",
      "Data columns (total 35 columns):\n",
      " #   Column                                      Non-Null Count  Dtype  \n",
      "---  ------                                      --------------  -----  \n",
      " 0   city_development_index                      19158 non-null  float64\n",
      " 1   experience                                  19093 non-null  float64\n",
      " 2   training_hours                              19158 non-null  int64  \n",
      " 3   target                                      19158 non-null  float64\n",
      " 4   gender_Male                                 19158 non-null  uint8  \n",
      " 5   gender_Other                                19158 non-null  uint8  \n",
      " 6   enrolled_university_Part time course        19158 non-null  uint8  \n",
      " 7   enrolled_university_no_enrollment           19158 non-null  uint8  \n",
      " 8   relevent_experience_No relevent experience  19158 non-null  uint8  \n",
      " 9   education_level_High School                 19158 non-null  uint8  \n",
      " 10  education_level_Masters                     19158 non-null  uint8  \n",
      " 11  education_level_Phd                         19158 non-null  uint8  \n",
      " 12  education_level_Primary School              19158 non-null  uint8  \n",
      " 13  major_discipline_Business Degree            19158 non-null  uint8  \n",
      " 14  major_discipline_Humanities                 19158 non-null  uint8  \n",
      " 15  major_discipline_No Major                   19158 non-null  uint8  \n",
      " 16  major_discipline_Other                      19158 non-null  uint8  \n",
      " 17  major_discipline_STEM                       19158 non-null  uint8  \n",
      " 18  company_size_100-500                        19158 non-null  uint8  \n",
      " 19  company_size_1000-4999                      19158 non-null  uint8  \n",
      " 20  company_size_10000+                         19158 non-null  uint8  \n",
      " 21  company_size_50-99                          19158 non-null  uint8  \n",
      " 22  company_size_500-999                        19158 non-null  uint8  \n",
      " 23  company_size_5000-9999                      19158 non-null  uint8  \n",
      " 24  company_size_<10                            19158 non-null  uint8  \n",
      " 25  company_type_Funded Startup                 19158 non-null  uint8  \n",
      " 26  company_type_NGO                            19158 non-null  uint8  \n",
      " 27  company_type_Other                          19158 non-null  uint8  \n",
      " 28  company_type_Public Sector                  19158 non-null  uint8  \n",
      " 29  company_type_Pvt Ltd                        19158 non-null  uint8  \n",
      " 30  last_new_job_2                              19158 non-null  uint8  \n",
      " 31  last_new_job_3                              19158 non-null  uint8  \n",
      " 32  last_new_job_4                              19158 non-null  uint8  \n",
      " 33  last_new_job_>4                             19158 non-null  uint8  \n",
      " 34  last_new_job_never                          19158 non-null  uint8  \n",
      "dtypes: float64(3), int64(1), uint8(31)\n",
      "memory usage: 1.2 MB\n"
     ]
    }
   ],
   "source": [
    "train1.info()"
   ]
  },
  {
   "cell_type": "code",
   "execution_count": 61,
   "id": "effba787",
   "metadata": {},
   "outputs": [
    {
     "name": "stdout",
     "output_type": "stream",
     "text": [
      "Index(['city_development_index', 'experience', 'training_hours', 'target',\n",
      "       'gender_Male', 'gender_Other', 'enrolled_university_Part time course',\n",
      "       'enrolled_university_no_enrollment',\n",
      "       'relevent_experience_No relevent experience',\n",
      "       'education_level_High School', 'education_level_Masters',\n",
      "       'education_level_Phd', 'education_level_Primary School',\n",
      "       'major_discipline_Business Degree', 'major_discipline_Humanities',\n",
      "       'major_discipline_No Major', 'major_discipline_Other',\n",
      "       'major_discipline_STEM', 'company_size_100-500',\n",
      "       'company_size_1000-4999', 'company_size_10000+', 'company_size_50-99',\n",
      "       'company_size_500-999', 'company_size_5000-9999', 'company_size_<10',\n",
      "       'company_type_Funded Startup', 'company_type_NGO', 'company_type_Other',\n",
      "       'company_type_Public Sector', 'company_type_Pvt Ltd', 'last_new_job_2',\n",
      "       'last_new_job_3', 'last_new_job_4', 'last_new_job_>4',\n",
      "       'last_new_job_never'],\n",
      "      dtype='object')\n"
     ]
    }
   ],
   "source": [
    "print(train1.columns)"
   ]
  },
  {
   "cell_type": "code",
   "execution_count": 26,
   "id": "9663a1ba",
   "metadata": {},
   "outputs": [
    {
     "name": "stdout",
     "output_type": "stream",
     "text": [
      "(19158, 35)\n"
     ]
    },
    {
     "name": "stderr",
     "output_type": "stream",
     "text": [
      "C:\\Users\\Preeti\\anaconda3\\lib\\site-packages\\sklearn\\impute\\_iterative.py:785: ConvergenceWarning: [IterativeImputer] Early stopping criterion not reached.\n",
      "  warnings.warn(\n"
     ]
    }
   ],
   "source": [
    "model = LinearRegression()\n",
    "\n",
    "mice_imputer = IterativeImputer(random_state=42, estimator=model, max_iter=10,\n",
    "                         n_nearest_features=2,skip_complete=True)\n",
    "final_df = mice_imputer.fit_transform(train1)\n",
    "\n",
    "final_df = pd.DataFrame(final_df)\n",
    "print(final_df.shape)\n",
    "final_df.columns = ['city_development_index', 'experience', 'training_hours', 'target',\n",
    "                   'gender_Male', 'gender_Other', 'enrolled_university_Part time course',\n",
    "                   'enrolled_university_no_enrollment',\n",
    "                   'relevent_experience_No relevent experience',\n",
    "                   'education_level_High School', 'education_level_Masters',\n",
    "                   'education_level_Phd', 'education_level_Primary School',\n",
    "                   'major_discipline_Business Degree', 'major_discipline_Humanities',\n",
    "                   'major_discipline_No Major', 'major_discipline_Other',\n",
    "                   'major_discipline_STEM', 'company_size_100-500',\n",
    "                   'company_size_1000-4999', 'company_size_10000+', 'company_size_50-99',\n",
    "                   'company_size_500-999', 'company_size_5000-9999', 'company_size_<10',\n",
    "                   'company_type_Funded Startup', 'company_type_NGO', 'company_type_Other',\n",
    "                   'company_type_Public Sector', 'company_type_Pvt Ltd', 'last_new_job_2',\n",
    "                   'last_new_job_3', 'last_new_job_4', 'last_new_job_>4',\n",
    "                   'last_new_job_never']"
   ]
  },
  {
   "cell_type": "code",
   "execution_count": 27,
   "id": "b112a604",
   "metadata": {},
   "outputs": [
    {
     "data": {
      "text/html": [
       "<div>\n",
       "<style scoped>\n",
       "    .dataframe tbody tr th:only-of-type {\n",
       "        vertical-align: middle;\n",
       "    }\n",
       "\n",
       "    .dataframe tbody tr th {\n",
       "        vertical-align: top;\n",
       "    }\n",
       "\n",
       "    .dataframe thead th {\n",
       "        text-align: right;\n",
       "    }\n",
       "</style>\n",
       "<table border=\"1\" class=\"dataframe\">\n",
       "  <thead>\n",
       "    <tr style=\"text-align: right;\">\n",
       "      <th></th>\n",
       "      <th>city_development_index</th>\n",
       "      <th>experience</th>\n",
       "      <th>training_hours</th>\n",
       "      <th>target</th>\n",
       "      <th>gender_Male</th>\n",
       "      <th>gender_Other</th>\n",
       "      <th>enrolled_university_Part time course</th>\n",
       "      <th>enrolled_university_no_enrollment</th>\n",
       "      <th>relevent_experience_No relevent experience</th>\n",
       "      <th>education_level_High School</th>\n",
       "      <th>...</th>\n",
       "      <th>company_type_Funded Startup</th>\n",
       "      <th>company_type_NGO</th>\n",
       "      <th>company_type_Other</th>\n",
       "      <th>company_type_Public Sector</th>\n",
       "      <th>company_type_Pvt Ltd</th>\n",
       "      <th>last_new_job_2</th>\n",
       "      <th>last_new_job_3</th>\n",
       "      <th>last_new_job_4</th>\n",
       "      <th>last_new_job_&gt;4</th>\n",
       "      <th>last_new_job_never</th>\n",
       "    </tr>\n",
       "  </thead>\n",
       "  <tbody>\n",
       "    <tr>\n",
       "      <th>0</th>\n",
       "      <td>0.920</td>\n",
       "      <td>6.0</td>\n",
       "      <td>36.0</td>\n",
       "      <td>1.0</td>\n",
       "      <td>1.0</td>\n",
       "      <td>0.0</td>\n",
       "      <td>0.0</td>\n",
       "      <td>1.0</td>\n",
       "      <td>0.0</td>\n",
       "      <td>0.0</td>\n",
       "      <td>...</td>\n",
       "      <td>0.0</td>\n",
       "      <td>0.0</td>\n",
       "      <td>0.0</td>\n",
       "      <td>0.0</td>\n",
       "      <td>0.0</td>\n",
       "      <td>0.0</td>\n",
       "      <td>0.0</td>\n",
       "      <td>0.0</td>\n",
       "      <td>0.0</td>\n",
       "      <td>0.0</td>\n",
       "    </tr>\n",
       "    <tr>\n",
       "      <th>1</th>\n",
       "      <td>0.776</td>\n",
       "      <td>4.0</td>\n",
       "      <td>47.0</td>\n",
       "      <td>0.0</td>\n",
       "      <td>1.0</td>\n",
       "      <td>0.0</td>\n",
       "      <td>0.0</td>\n",
       "      <td>1.0</td>\n",
       "      <td>1.0</td>\n",
       "      <td>0.0</td>\n",
       "      <td>...</td>\n",
       "      <td>0.0</td>\n",
       "      <td>0.0</td>\n",
       "      <td>0.0</td>\n",
       "      <td>0.0</td>\n",
       "      <td>1.0</td>\n",
       "      <td>0.0</td>\n",
       "      <td>0.0</td>\n",
       "      <td>0.0</td>\n",
       "      <td>1.0</td>\n",
       "      <td>0.0</td>\n",
       "    </tr>\n",
       "    <tr>\n",
       "      <th>2</th>\n",
       "      <td>0.624</td>\n",
       "      <td>2.0</td>\n",
       "      <td>83.0</td>\n",
       "      <td>0.0</td>\n",
       "      <td>0.0</td>\n",
       "      <td>0.0</td>\n",
       "      <td>0.0</td>\n",
       "      <td>0.0</td>\n",
       "      <td>1.0</td>\n",
       "      <td>0.0</td>\n",
       "      <td>...</td>\n",
       "      <td>0.0</td>\n",
       "      <td>0.0</td>\n",
       "      <td>0.0</td>\n",
       "      <td>0.0</td>\n",
       "      <td>0.0</td>\n",
       "      <td>0.0</td>\n",
       "      <td>0.0</td>\n",
       "      <td>0.0</td>\n",
       "      <td>0.0</td>\n",
       "      <td>1.0</td>\n",
       "    </tr>\n",
       "    <tr>\n",
       "      <th>3</th>\n",
       "      <td>0.789</td>\n",
       "      <td>1.0</td>\n",
       "      <td>52.0</td>\n",
       "      <td>1.0</td>\n",
       "      <td>0.0</td>\n",
       "      <td>0.0</td>\n",
       "      <td>0.0</td>\n",
       "      <td>0.0</td>\n",
       "      <td>1.0</td>\n",
       "      <td>0.0</td>\n",
       "      <td>...</td>\n",
       "      <td>0.0</td>\n",
       "      <td>0.0</td>\n",
       "      <td>0.0</td>\n",
       "      <td>0.0</td>\n",
       "      <td>1.0</td>\n",
       "      <td>0.0</td>\n",
       "      <td>0.0</td>\n",
       "      <td>0.0</td>\n",
       "      <td>0.0</td>\n",
       "      <td>1.0</td>\n",
       "    </tr>\n",
       "    <tr>\n",
       "      <th>4</th>\n",
       "      <td>0.767</td>\n",
       "      <td>6.0</td>\n",
       "      <td>8.0</td>\n",
       "      <td>0.0</td>\n",
       "      <td>1.0</td>\n",
       "      <td>0.0</td>\n",
       "      <td>0.0</td>\n",
       "      <td>1.0</td>\n",
       "      <td>0.0</td>\n",
       "      <td>0.0</td>\n",
       "      <td>...</td>\n",
       "      <td>1.0</td>\n",
       "      <td>0.0</td>\n",
       "      <td>0.0</td>\n",
       "      <td>0.0</td>\n",
       "      <td>0.0</td>\n",
       "      <td>0.0</td>\n",
       "      <td>0.0</td>\n",
       "      <td>1.0</td>\n",
       "      <td>0.0</td>\n",
       "      <td>0.0</td>\n",
       "    </tr>\n",
       "  </tbody>\n",
       "</table>\n",
       "<p>5 rows × 35 columns</p>\n",
       "</div>"
      ],
      "text/plain": [
       "   city_development_index  experience  training_hours  target  gender_Male  \\\n",
       "0                   0.920         6.0            36.0     1.0          1.0   \n",
       "1                   0.776         4.0            47.0     0.0          1.0   \n",
       "2                   0.624         2.0            83.0     0.0          0.0   \n",
       "3                   0.789         1.0            52.0     1.0          0.0   \n",
       "4                   0.767         6.0             8.0     0.0          1.0   \n",
       "\n",
       "   gender_Other  enrolled_university_Part time course  \\\n",
       "0           0.0                                   0.0   \n",
       "1           0.0                                   0.0   \n",
       "2           0.0                                   0.0   \n",
       "3           0.0                                   0.0   \n",
       "4           0.0                                   0.0   \n",
       "\n",
       "   enrolled_university_no_enrollment  \\\n",
       "0                                1.0   \n",
       "1                                1.0   \n",
       "2                                0.0   \n",
       "3                                0.0   \n",
       "4                                1.0   \n",
       "\n",
       "   relevent_experience_No relevent experience  education_level_High School  \\\n",
       "0                                         0.0                          0.0   \n",
       "1                                         1.0                          0.0   \n",
       "2                                         1.0                          0.0   \n",
       "3                                         1.0                          0.0   \n",
       "4                                         0.0                          0.0   \n",
       "\n",
       "   ...  company_type_Funded Startup  company_type_NGO  company_type_Other  \\\n",
       "0  ...                          0.0               0.0                 0.0   \n",
       "1  ...                          0.0               0.0                 0.0   \n",
       "2  ...                          0.0               0.0                 0.0   \n",
       "3  ...                          0.0               0.0                 0.0   \n",
       "4  ...                          1.0               0.0                 0.0   \n",
       "\n",
       "   company_type_Public Sector  company_type_Pvt Ltd  last_new_job_2  \\\n",
       "0                         0.0                   0.0             0.0   \n",
       "1                         0.0                   1.0             0.0   \n",
       "2                         0.0                   0.0             0.0   \n",
       "3                         0.0                   1.0             0.0   \n",
       "4                         0.0                   0.0             0.0   \n",
       "\n",
       "   last_new_job_3  last_new_job_4  last_new_job_>4  last_new_job_never  \n",
       "0             0.0             0.0              0.0                 0.0  \n",
       "1             0.0             0.0              1.0                 0.0  \n",
       "2             0.0             0.0              0.0                 1.0  \n",
       "3             0.0             0.0              0.0                 1.0  \n",
       "4             0.0             1.0              0.0                 0.0  \n",
       "\n",
       "[5 rows x 35 columns]"
      ]
     },
     "execution_count": 27,
     "metadata": {},
     "output_type": "execute_result"
    }
   ],
   "source": [
    "final_df.head()"
   ]
  },
  {
   "cell_type": "code",
   "execution_count": 28,
   "id": "8e2bb455",
   "metadata": {},
   "outputs": [],
   "source": [
    "num_col = ['city_development_index','training_hours']\n",
    "transform=PowerTransformer()\n",
    "\n",
    "df1=transform.fit_transform(final_df[num_col])\n",
    "df1 = pd.DataFrame(df1)"
   ]
  },
  {
   "cell_type": "code",
   "execution_count": 29,
   "id": "f95a4885",
   "metadata": {},
   "outputs": [
    {
     "data": {
      "text/html": [
       "<div>\n",
       "<style scoped>\n",
       "    .dataframe tbody tr th:only-of-type {\n",
       "        vertical-align: middle;\n",
       "    }\n",
       "\n",
       "    .dataframe tbody tr th {\n",
       "        vertical-align: top;\n",
       "    }\n",
       "\n",
       "    .dataframe thead th {\n",
       "        text-align: right;\n",
       "    }\n",
       "</style>\n",
       "<table border=\"1\" class=\"dataframe\">\n",
       "  <thead>\n",
       "    <tr style=\"text-align: right;\">\n",
       "      <th></th>\n",
       "      <th>0</th>\n",
       "      <th>1</th>\n",
       "    </tr>\n",
       "  </thead>\n",
       "  <tbody>\n",
       "    <tr>\n",
       "      <th>0</th>\n",
       "      <td>0.826988</td>\n",
       "      <td>-0.267123</td>\n",
       "    </tr>\n",
       "    <tr>\n",
       "      <th>1</th>\n",
       "      <td>-0.874462</td>\n",
       "      <td>0.009220</td>\n",
       "    </tr>\n",
       "    <tr>\n",
       "      <th>2</th>\n",
       "      <td>-1.527335</td>\n",
       "      <td>0.639156</td>\n",
       "    </tr>\n",
       "    <tr>\n",
       "      <th>3</th>\n",
       "      <td>-0.779066</td>\n",
       "      <td>0.117143</td>\n",
       "    </tr>\n",
       "    <tr>\n",
       "      <th>4</th>\n",
       "      <td>-0.935671</td>\n",
       "      <td>-1.601817</td>\n",
       "    </tr>\n",
       "  </tbody>\n",
       "</table>\n",
       "</div>"
      ],
      "text/plain": [
       "          0         1\n",
       "0  0.826988 -0.267123\n",
       "1 -0.874462  0.009220\n",
       "2 -1.527335  0.639156\n",
       "3 -0.779066  0.117143\n",
       "4 -0.935671 -1.601817"
      ]
     },
     "execution_count": 29,
     "metadata": {},
     "output_type": "execute_result"
    }
   ],
   "source": [
    "df1.head()"
   ]
  },
  {
   "cell_type": "code",
   "execution_count": 30,
   "id": "ec546252",
   "metadata": {},
   "outputs": [
    {
     "data": {
      "text/html": [
       "<div>\n",
       "<style scoped>\n",
       "    .dataframe tbody tr th:only-of-type {\n",
       "        vertical-align: middle;\n",
       "    }\n",
       "\n",
       "    .dataframe tbody tr th {\n",
       "        vertical-align: top;\n",
       "    }\n",
       "\n",
       "    .dataframe thead th {\n",
       "        text-align: right;\n",
       "    }\n",
       "</style>\n",
       "<table border=\"1\" class=\"dataframe\">\n",
       "  <thead>\n",
       "    <tr style=\"text-align: right;\">\n",
       "      <th></th>\n",
       "      <th>city_development_index</th>\n",
       "      <th>training_hours</th>\n",
       "    </tr>\n",
       "  </thead>\n",
       "  <tbody>\n",
       "    <tr>\n",
       "      <th>0</th>\n",
       "      <td>0.826988</td>\n",
       "      <td>-0.267123</td>\n",
       "    </tr>\n",
       "    <tr>\n",
       "      <th>1</th>\n",
       "      <td>-0.874462</td>\n",
       "      <td>0.009220</td>\n",
       "    </tr>\n",
       "    <tr>\n",
       "      <th>2</th>\n",
       "      <td>-1.527335</td>\n",
       "      <td>0.639156</td>\n",
       "    </tr>\n",
       "    <tr>\n",
       "      <th>3</th>\n",
       "      <td>-0.779066</td>\n",
       "      <td>0.117143</td>\n",
       "    </tr>\n",
       "    <tr>\n",
       "      <th>4</th>\n",
       "      <td>-0.935671</td>\n",
       "      <td>-1.601817</td>\n",
       "    </tr>\n",
       "  </tbody>\n",
       "</table>\n",
       "</div>"
      ],
      "text/plain": [
       "   city_development_index  training_hours\n",
       "0                0.826988       -0.267123\n",
       "1               -0.874462        0.009220\n",
       "2               -1.527335        0.639156\n",
       "3               -0.779066        0.117143\n",
       "4               -0.935671       -1.601817"
      ]
     },
     "execution_count": 30,
     "metadata": {},
     "output_type": "execute_result"
    }
   ],
   "source": [
    "df1.columns = ['city_development_index', 'training_hours']\n",
    "df1.head()"
   ]
  },
  {
   "cell_type": "code",
   "execution_count": 31,
   "id": "a7a6b179",
   "metadata": {},
   "outputs": [],
   "source": [
    "final_df.drop(['city_development_index', 'training_hours'], inplace=True, axis=1)"
   ]
  },
  {
   "cell_type": "code",
   "execution_count": 32,
   "id": "4f5a3b3e",
   "metadata": {},
   "outputs": [
    {
     "data": {
      "text/html": [
       "<div>\n",
       "<style scoped>\n",
       "    .dataframe tbody tr th:only-of-type {\n",
       "        vertical-align: middle;\n",
       "    }\n",
       "\n",
       "    .dataframe tbody tr th {\n",
       "        vertical-align: top;\n",
       "    }\n",
       "\n",
       "    .dataframe thead th {\n",
       "        text-align: right;\n",
       "    }\n",
       "</style>\n",
       "<table border=\"1\" class=\"dataframe\">\n",
       "  <thead>\n",
       "    <tr style=\"text-align: right;\">\n",
       "      <th></th>\n",
       "      <th>city_development_index</th>\n",
       "      <th>training_hours</th>\n",
       "      <th>experience</th>\n",
       "      <th>target</th>\n",
       "      <th>gender_Male</th>\n",
       "      <th>gender_Other</th>\n",
       "      <th>enrolled_university_Part time course</th>\n",
       "      <th>enrolled_university_no_enrollment</th>\n",
       "      <th>relevent_experience_No relevent experience</th>\n",
       "      <th>education_level_High School</th>\n",
       "      <th>...</th>\n",
       "      <th>company_type_Funded Startup</th>\n",
       "      <th>company_type_NGO</th>\n",
       "      <th>company_type_Other</th>\n",
       "      <th>company_type_Public Sector</th>\n",
       "      <th>company_type_Pvt Ltd</th>\n",
       "      <th>last_new_job_2</th>\n",
       "      <th>last_new_job_3</th>\n",
       "      <th>last_new_job_4</th>\n",
       "      <th>last_new_job_&gt;4</th>\n",
       "      <th>last_new_job_never</th>\n",
       "    </tr>\n",
       "  </thead>\n",
       "  <tbody>\n",
       "    <tr>\n",
       "      <th>0</th>\n",
       "      <td>0.826988</td>\n",
       "      <td>-0.267123</td>\n",
       "      <td>6.0</td>\n",
       "      <td>1.0</td>\n",
       "      <td>1.0</td>\n",
       "      <td>0.0</td>\n",
       "      <td>0.0</td>\n",
       "      <td>1.0</td>\n",
       "      <td>0.0</td>\n",
       "      <td>0.0</td>\n",
       "      <td>...</td>\n",
       "      <td>0.0</td>\n",
       "      <td>0.0</td>\n",
       "      <td>0.0</td>\n",
       "      <td>0.0</td>\n",
       "      <td>0.0</td>\n",
       "      <td>0.0</td>\n",
       "      <td>0.0</td>\n",
       "      <td>0.0</td>\n",
       "      <td>0.0</td>\n",
       "      <td>0.0</td>\n",
       "    </tr>\n",
       "    <tr>\n",
       "      <th>1</th>\n",
       "      <td>-0.874462</td>\n",
       "      <td>0.009220</td>\n",
       "      <td>4.0</td>\n",
       "      <td>0.0</td>\n",
       "      <td>1.0</td>\n",
       "      <td>0.0</td>\n",
       "      <td>0.0</td>\n",
       "      <td>1.0</td>\n",
       "      <td>1.0</td>\n",
       "      <td>0.0</td>\n",
       "      <td>...</td>\n",
       "      <td>0.0</td>\n",
       "      <td>0.0</td>\n",
       "      <td>0.0</td>\n",
       "      <td>0.0</td>\n",
       "      <td>1.0</td>\n",
       "      <td>0.0</td>\n",
       "      <td>0.0</td>\n",
       "      <td>0.0</td>\n",
       "      <td>1.0</td>\n",
       "      <td>0.0</td>\n",
       "    </tr>\n",
       "    <tr>\n",
       "      <th>2</th>\n",
       "      <td>-1.527335</td>\n",
       "      <td>0.639156</td>\n",
       "      <td>2.0</td>\n",
       "      <td>0.0</td>\n",
       "      <td>0.0</td>\n",
       "      <td>0.0</td>\n",
       "      <td>0.0</td>\n",
       "      <td>0.0</td>\n",
       "      <td>1.0</td>\n",
       "      <td>0.0</td>\n",
       "      <td>...</td>\n",
       "      <td>0.0</td>\n",
       "      <td>0.0</td>\n",
       "      <td>0.0</td>\n",
       "      <td>0.0</td>\n",
       "      <td>0.0</td>\n",
       "      <td>0.0</td>\n",
       "      <td>0.0</td>\n",
       "      <td>0.0</td>\n",
       "      <td>0.0</td>\n",
       "      <td>1.0</td>\n",
       "    </tr>\n",
       "    <tr>\n",
       "      <th>3</th>\n",
       "      <td>-0.779066</td>\n",
       "      <td>0.117143</td>\n",
       "      <td>1.0</td>\n",
       "      <td>1.0</td>\n",
       "      <td>0.0</td>\n",
       "      <td>0.0</td>\n",
       "      <td>0.0</td>\n",
       "      <td>0.0</td>\n",
       "      <td>1.0</td>\n",
       "      <td>0.0</td>\n",
       "      <td>...</td>\n",
       "      <td>0.0</td>\n",
       "      <td>0.0</td>\n",
       "      <td>0.0</td>\n",
       "      <td>0.0</td>\n",
       "      <td>1.0</td>\n",
       "      <td>0.0</td>\n",
       "      <td>0.0</td>\n",
       "      <td>0.0</td>\n",
       "      <td>0.0</td>\n",
       "      <td>1.0</td>\n",
       "    </tr>\n",
       "    <tr>\n",
       "      <th>4</th>\n",
       "      <td>-0.935671</td>\n",
       "      <td>-1.601817</td>\n",
       "      <td>6.0</td>\n",
       "      <td>0.0</td>\n",
       "      <td>1.0</td>\n",
       "      <td>0.0</td>\n",
       "      <td>0.0</td>\n",
       "      <td>1.0</td>\n",
       "      <td>0.0</td>\n",
       "      <td>0.0</td>\n",
       "      <td>...</td>\n",
       "      <td>1.0</td>\n",
       "      <td>0.0</td>\n",
       "      <td>0.0</td>\n",
       "      <td>0.0</td>\n",
       "      <td>0.0</td>\n",
       "      <td>0.0</td>\n",
       "      <td>0.0</td>\n",
       "      <td>1.0</td>\n",
       "      <td>0.0</td>\n",
       "      <td>0.0</td>\n",
       "    </tr>\n",
       "  </tbody>\n",
       "</table>\n",
       "<p>5 rows × 35 columns</p>\n",
       "</div>"
      ],
      "text/plain": [
       "   city_development_index  training_hours  experience  target  gender_Male  \\\n",
       "0                0.826988       -0.267123         6.0     1.0          1.0   \n",
       "1               -0.874462        0.009220         4.0     0.0          1.0   \n",
       "2               -1.527335        0.639156         2.0     0.0          0.0   \n",
       "3               -0.779066        0.117143         1.0     1.0          0.0   \n",
       "4               -0.935671       -1.601817         6.0     0.0          1.0   \n",
       "\n",
       "   gender_Other  enrolled_university_Part time course  \\\n",
       "0           0.0                                   0.0   \n",
       "1           0.0                                   0.0   \n",
       "2           0.0                                   0.0   \n",
       "3           0.0                                   0.0   \n",
       "4           0.0                                   0.0   \n",
       "\n",
       "   enrolled_university_no_enrollment  \\\n",
       "0                                1.0   \n",
       "1                                1.0   \n",
       "2                                0.0   \n",
       "3                                0.0   \n",
       "4                                1.0   \n",
       "\n",
       "   relevent_experience_No relevent experience  education_level_High School  \\\n",
       "0                                         0.0                          0.0   \n",
       "1                                         1.0                          0.0   \n",
       "2                                         1.0                          0.0   \n",
       "3                                         1.0                          0.0   \n",
       "4                                         0.0                          0.0   \n",
       "\n",
       "   ...  company_type_Funded Startup  company_type_NGO  company_type_Other  \\\n",
       "0  ...                          0.0               0.0                 0.0   \n",
       "1  ...                          0.0               0.0                 0.0   \n",
       "2  ...                          0.0               0.0                 0.0   \n",
       "3  ...                          0.0               0.0                 0.0   \n",
       "4  ...                          1.0               0.0                 0.0   \n",
       "\n",
       "   company_type_Public Sector  company_type_Pvt Ltd  last_new_job_2  \\\n",
       "0                         0.0                   0.0             0.0   \n",
       "1                         0.0                   1.0             0.0   \n",
       "2                         0.0                   0.0             0.0   \n",
       "3                         0.0                   1.0             0.0   \n",
       "4                         0.0                   0.0             0.0   \n",
       "\n",
       "   last_new_job_3  last_new_job_4  last_new_job_>4  last_new_job_never  \n",
       "0             0.0             0.0              0.0                 0.0  \n",
       "1             0.0             0.0              1.0                 0.0  \n",
       "2             0.0             0.0              0.0                 1.0  \n",
       "3             0.0             0.0              0.0                 1.0  \n",
       "4             0.0             1.0              0.0                 0.0  \n",
       "\n",
       "[5 rows x 35 columns]"
      ]
     },
     "execution_count": 32,
     "metadata": {},
     "output_type": "execute_result"
    }
   ],
   "source": [
    "frames=[df1,final_df]\n",
    "df = pd.concat(frames, axis=1)\n",
    "df.head()"
   ]
  },
  {
   "cell_type": "code",
   "execution_count": 35,
   "id": "6e370642",
   "metadata": {},
   "outputs": [],
   "source": [
    "y = df[\"target\"]\n",
    "X = final_df.drop('target',1)"
   ]
  },
  {
   "cell_type": "code",
   "execution_count": 36,
   "id": "b4b091f3",
   "metadata": {},
   "outputs": [
    {
     "data": {
      "text/html": [
       "<div>\n",
       "<style scoped>\n",
       "    .dataframe tbody tr th:only-of-type {\n",
       "        vertical-align: middle;\n",
       "    }\n",
       "\n",
       "    .dataframe tbody tr th {\n",
       "        vertical-align: top;\n",
       "    }\n",
       "\n",
       "    .dataframe thead th {\n",
       "        text-align: right;\n",
       "    }\n",
       "</style>\n",
       "<table border=\"1\" class=\"dataframe\">\n",
       "  <thead>\n",
       "    <tr style=\"text-align: right;\">\n",
       "      <th></th>\n",
       "      <th>experience</th>\n",
       "      <th>gender_Male</th>\n",
       "      <th>gender_Other</th>\n",
       "      <th>enrolled_university_Part time course</th>\n",
       "      <th>enrolled_university_no_enrollment</th>\n",
       "      <th>relevent_experience_No relevent experience</th>\n",
       "      <th>education_level_High School</th>\n",
       "      <th>education_level_Masters</th>\n",
       "      <th>education_level_Phd</th>\n",
       "      <th>education_level_Primary School</th>\n",
       "      <th>...</th>\n",
       "      <th>company_type_Funded Startup</th>\n",
       "      <th>company_type_NGO</th>\n",
       "      <th>company_type_Other</th>\n",
       "      <th>company_type_Public Sector</th>\n",
       "      <th>company_type_Pvt Ltd</th>\n",
       "      <th>last_new_job_2</th>\n",
       "      <th>last_new_job_3</th>\n",
       "      <th>last_new_job_4</th>\n",
       "      <th>last_new_job_&gt;4</th>\n",
       "      <th>last_new_job_never</th>\n",
       "    </tr>\n",
       "  </thead>\n",
       "  <tbody>\n",
       "    <tr>\n",
       "      <th>0</th>\n",
       "      <td>6.0</td>\n",
       "      <td>1.0</td>\n",
       "      <td>0.0</td>\n",
       "      <td>0.0</td>\n",
       "      <td>1.0</td>\n",
       "      <td>0.0</td>\n",
       "      <td>0.0</td>\n",
       "      <td>0.0</td>\n",
       "      <td>0.0</td>\n",
       "      <td>0.0</td>\n",
       "      <td>...</td>\n",
       "      <td>0.0</td>\n",
       "      <td>0.0</td>\n",
       "      <td>0.0</td>\n",
       "      <td>0.0</td>\n",
       "      <td>0.0</td>\n",
       "      <td>0.0</td>\n",
       "      <td>0.0</td>\n",
       "      <td>0.0</td>\n",
       "      <td>0.0</td>\n",
       "      <td>0.0</td>\n",
       "    </tr>\n",
       "    <tr>\n",
       "      <th>1</th>\n",
       "      <td>4.0</td>\n",
       "      <td>1.0</td>\n",
       "      <td>0.0</td>\n",
       "      <td>0.0</td>\n",
       "      <td>1.0</td>\n",
       "      <td>1.0</td>\n",
       "      <td>0.0</td>\n",
       "      <td>0.0</td>\n",
       "      <td>0.0</td>\n",
       "      <td>0.0</td>\n",
       "      <td>...</td>\n",
       "      <td>0.0</td>\n",
       "      <td>0.0</td>\n",
       "      <td>0.0</td>\n",
       "      <td>0.0</td>\n",
       "      <td>1.0</td>\n",
       "      <td>0.0</td>\n",
       "      <td>0.0</td>\n",
       "      <td>0.0</td>\n",
       "      <td>1.0</td>\n",
       "      <td>0.0</td>\n",
       "    </tr>\n",
       "    <tr>\n",
       "      <th>2</th>\n",
       "      <td>2.0</td>\n",
       "      <td>0.0</td>\n",
       "      <td>0.0</td>\n",
       "      <td>0.0</td>\n",
       "      <td>0.0</td>\n",
       "      <td>1.0</td>\n",
       "      <td>0.0</td>\n",
       "      <td>0.0</td>\n",
       "      <td>0.0</td>\n",
       "      <td>0.0</td>\n",
       "      <td>...</td>\n",
       "      <td>0.0</td>\n",
       "      <td>0.0</td>\n",
       "      <td>0.0</td>\n",
       "      <td>0.0</td>\n",
       "      <td>0.0</td>\n",
       "      <td>0.0</td>\n",
       "      <td>0.0</td>\n",
       "      <td>0.0</td>\n",
       "      <td>0.0</td>\n",
       "      <td>1.0</td>\n",
       "    </tr>\n",
       "    <tr>\n",
       "      <th>3</th>\n",
       "      <td>1.0</td>\n",
       "      <td>0.0</td>\n",
       "      <td>0.0</td>\n",
       "      <td>0.0</td>\n",
       "      <td>0.0</td>\n",
       "      <td>1.0</td>\n",
       "      <td>0.0</td>\n",
       "      <td>0.0</td>\n",
       "      <td>0.0</td>\n",
       "      <td>0.0</td>\n",
       "      <td>...</td>\n",
       "      <td>0.0</td>\n",
       "      <td>0.0</td>\n",
       "      <td>0.0</td>\n",
       "      <td>0.0</td>\n",
       "      <td>1.0</td>\n",
       "      <td>0.0</td>\n",
       "      <td>0.0</td>\n",
       "      <td>0.0</td>\n",
       "      <td>0.0</td>\n",
       "      <td>1.0</td>\n",
       "    </tr>\n",
       "    <tr>\n",
       "      <th>4</th>\n",
       "      <td>6.0</td>\n",
       "      <td>1.0</td>\n",
       "      <td>0.0</td>\n",
       "      <td>0.0</td>\n",
       "      <td>1.0</td>\n",
       "      <td>0.0</td>\n",
       "      <td>0.0</td>\n",
       "      <td>1.0</td>\n",
       "      <td>0.0</td>\n",
       "      <td>0.0</td>\n",
       "      <td>...</td>\n",
       "      <td>1.0</td>\n",
       "      <td>0.0</td>\n",
       "      <td>0.0</td>\n",
       "      <td>0.0</td>\n",
       "      <td>0.0</td>\n",
       "      <td>0.0</td>\n",
       "      <td>0.0</td>\n",
       "      <td>1.0</td>\n",
       "      <td>0.0</td>\n",
       "      <td>0.0</td>\n",
       "    </tr>\n",
       "  </tbody>\n",
       "</table>\n",
       "<p>5 rows × 32 columns</p>\n",
       "</div>"
      ],
      "text/plain": [
       "   experience  gender_Male  gender_Other  \\\n",
       "0         6.0          1.0           0.0   \n",
       "1         4.0          1.0           0.0   \n",
       "2         2.0          0.0           0.0   \n",
       "3         1.0          0.0           0.0   \n",
       "4         6.0          1.0           0.0   \n",
       "\n",
       "   enrolled_university_Part time course  enrolled_university_no_enrollment  \\\n",
       "0                                   0.0                                1.0   \n",
       "1                                   0.0                                1.0   \n",
       "2                                   0.0                                0.0   \n",
       "3                                   0.0                                0.0   \n",
       "4                                   0.0                                1.0   \n",
       "\n",
       "   relevent_experience_No relevent experience  education_level_High School  \\\n",
       "0                                         0.0                          0.0   \n",
       "1                                         1.0                          0.0   \n",
       "2                                         1.0                          0.0   \n",
       "3                                         1.0                          0.0   \n",
       "4                                         0.0                          0.0   \n",
       "\n",
       "   education_level_Masters  education_level_Phd  \\\n",
       "0                      0.0                  0.0   \n",
       "1                      0.0                  0.0   \n",
       "2                      0.0                  0.0   \n",
       "3                      0.0                  0.0   \n",
       "4                      1.0                  0.0   \n",
       "\n",
       "   education_level_Primary School  ...  company_type_Funded Startup  \\\n",
       "0                             0.0  ...                          0.0   \n",
       "1                             0.0  ...                          0.0   \n",
       "2                             0.0  ...                          0.0   \n",
       "3                             0.0  ...                          0.0   \n",
       "4                             0.0  ...                          1.0   \n",
       "\n",
       "   company_type_NGO  company_type_Other  company_type_Public Sector  \\\n",
       "0               0.0                 0.0                         0.0   \n",
       "1               0.0                 0.0                         0.0   \n",
       "2               0.0                 0.0                         0.0   \n",
       "3               0.0                 0.0                         0.0   \n",
       "4               0.0                 0.0                         0.0   \n",
       "\n",
       "   company_type_Pvt Ltd  last_new_job_2  last_new_job_3  last_new_job_4  \\\n",
       "0                   0.0             0.0             0.0             0.0   \n",
       "1                   1.0             0.0             0.0             0.0   \n",
       "2                   0.0             0.0             0.0             0.0   \n",
       "3                   1.0             0.0             0.0             0.0   \n",
       "4                   0.0             0.0             0.0             1.0   \n",
       "\n",
       "   last_new_job_>4  last_new_job_never  \n",
       "0              0.0                 0.0  \n",
       "1              1.0                 0.0  \n",
       "2              0.0                 1.0  \n",
       "3              0.0                 1.0  \n",
       "4              0.0                 0.0  \n",
       "\n",
       "[5 rows x 32 columns]"
      ]
     },
     "execution_count": 36,
     "metadata": {},
     "output_type": "execute_result"
    }
   ],
   "source": [
    "X.head()"
   ]
  },
  {
   "cell_type": "code",
   "execution_count": 37,
   "id": "26ccb36b",
   "metadata": {},
   "outputs": [],
   "source": [
    "from sklearn.model_selection import GridSearchCV\n",
    "from sklearn.model_selection import StratifiedKFold\n",
    "\n",
    "from sklearn.model_selection import KFold\n",
    "from imblearn.over_sampling import SMOTE,ADASYN, SVMSMOTE\n",
    "from sklearn.model_selection import train_test_split\n",
    "from sklearn.metrics import confusion_matrix, classification_report, accuracy_score\n"
   ]
  },
  {
   "cell_type": "code",
   "execution_count": 38,
   "id": "000132cc",
   "metadata": {},
   "outputs": [],
   "source": [
    "svm_smote = SMOTE( random_state=42,k_neighbors=5) \n",
    "X_svm_smote, y_svm_smote = svm_smote.fit_resample(X,y)\n",
    "\n",
    "X_train_svm, X_test_svm, y_train, y_test = train_test_split(X_svm_smote,y_svm_smote, test_size=0.3, random_state=42)"
   ]
  },
  {
   "cell_type": "code",
   "execution_count": 39,
   "id": "b27edc8d",
   "metadata": {},
   "outputs": [],
   "source": [
    "sc = StandardScaler()\n",
    "X_train = sc.fit_transform(X_train_svm)"
   ]
  },
  {
   "cell_type": "code",
   "execution_count": 40,
   "id": "c6c9d9aa",
   "metadata": {},
   "outputs": [
    {
     "name": "stdout",
     "output_type": "stream",
     "text": [
      "Number of data points in train data : (20133, 32)\n",
      "Number of data points in validation data : (8629, 32)\n",
      "2.895083136781439e-17\n"
     ]
    }
   ],
   "source": [
    "X_test = sc.transform(X_test_svm)\n",
    "print(\"Number of data points in train data :\",X_train.shape)\n",
    "print(\"Number of data points in validation data :\",X_test.shape)\n",
    "print(X_train.mean())"
   ]
  },
  {
   "cell_type": "code",
   "execution_count": 63,
   "id": "3c4fff99",
   "metadata": {},
   "outputs": [
    {
     "name": "stdout",
     "output_type": "stream",
     "text": [
      "0.0    14381\n",
      "1.0    14381\n",
      "Name: target, dtype: int64\n"
     ]
    },
    {
     "name": "stderr",
     "output_type": "stream",
     "text": [
      "C:\\Users\\Preeti\\anaconda3\\lib\\site-packages\\seaborn\\_decorators.py:36: FutureWarning: Pass the following variable as a keyword arg: x. From version 0.12, the only valid positional argument will be `data`, and passing other arguments without an explicit keyword will result in an error or misinterpretation.\n",
      "  warnings.warn(\n"
     ]
    },
    {
     "data": {
      "text/plain": [
       "Text(0, 0.5, 'count')"
      ]
     },
     "execution_count": 63,
     "metadata": {},
     "output_type": "execute_result"
    },
    {
     "data": {
      "image/png": "[encoded data removed]",
      "text/plain": [
       "<Figure size 432x432 with 1 Axes>"
      ]
     },
     "metadata": {},
     "output_type": "display_data"
    }
   ],
   "source": [
    "count = y_svm_smote.value_counts()\n",
    "print( count )\n",
    "plt.figure(figsize = (6,6))\n",
    "sns.countplot(y_svm_smote,color = sns.color_palette()[0])\n",
    "plt.title('distribution of target')\n",
    "plt.xlabel('target values')\n",
    "plt.ylabel('count')"
   ]
  },
  {
   "cell_type": "code",
   "execution_count": 42,
   "id": "8e059c10",
   "metadata": {},
   "outputs": [
    {
     "name": "stdout",
     "output_type": "stream",
     "text": [
      "X_train (20133, 32)\n",
      "X_test (8629, 32)\n",
      "y_train (20133,)\n",
      "y_test (8629,)\n"
     ]
    }
   ],
   "source": [
    "print(\"X_train\",X_train.shape)\n",
    "print(\"X_test\",X_test.shape)\n",
    "print(\"y_train\",y_train.shape)\n",
    "print(\"y_test\",y_test.shape)"
   ]
  },
  {
   "cell_type": "markdown",
   "id": "9e497ce4",
   "metadata": {},
   "source": [
    "# Model prediction"
   ]
  },
  {
   "cell_type": "code",
   "execution_count": 43,
   "id": "72ba1b58",
   "metadata": {},
   "outputs": [],
   "source": [
    "from sklearn.ensemble import RandomForestClassifier\n",
    "from sklearn.ensemble import GradientBoostingClassifier\n",
    "from sklearn.linear_model import LogisticRegression\n",
    "from sklearn.model_selection import RepeatedStratifiedKFold\n",
    "from sklearn.model_selection import cross_val_score\n",
    "from sklearn.metrics import auc\n",
    "from sklearn.metrics import roc_auc_score\n",
    "from sklearn.metrics import roc_curve\n",
    "from sklearn.ensemble import RandomForestClassifier\n",
    "from sklearn.ensemble import GradientBoostingClassifier\n",
    "from sklearn.linear_model import LogisticRegression\n",
    "\n"
   ]
  },
  {
   "cell_type": "code",
   "execution_count": 44,
   "id": "a3b11033",
   "metadata": {},
   "outputs": [],
   "source": [
    "rf = RandomForestClassifier()\n",
    "gb = GradientBoostingClassifier()\n",
    "lr = LogisticRegression()"
   ]
  },
  {
   "cell_type": "code",
   "execution_count": 45,
   "id": "02ad712b",
   "metadata": {},
   "outputs": [
    {
     "data": {
      "text/plain": [
       "0.7575617105110674"
      ]
     },
     "execution_count": 45,
     "metadata": {},
     "output_type": "execute_result"
    }
   ],
   "source": [
    "rf.fit(X_train,y_train)\n",
    "y_pred = rf.predict(X_test)\n",
    "accuracy_score(y_test,y_pred)"
   ]
  },
  {
   "cell_type": "code",
   "execution_count": 46,
   "id": "fc5b8cbe",
   "metadata": {},
   "outputs": [
    {
     "data": {
      "text/plain": [
       "0.740062579673195"
      ]
     },
     "execution_count": 46,
     "metadata": {},
     "output_type": "execute_result"
    }
   ],
   "source": [
    "gb.fit(X_train,y_train)\n",
    "y_pred = gb.predict(X_test)\n",
    "accuracy_score(y_test,y_pred)"
   ]
  },
  {
   "cell_type": "code",
   "execution_count": 47,
   "id": "303197fd",
   "metadata": {},
   "outputs": [
    {
     "data": {
      "text/plain": [
       "0.6634604241511183"
      ]
     },
     "execution_count": 47,
     "metadata": {},
     "output_type": "execute_result"
    }
   ],
   "source": [
    "lr.fit(X_train,y_train)\n",
    "y_pred = lr.predict(X_test)\n",
    "accuracy_score(y_test,y_pred)"
   ]
  },
  {
   "cell_type": "code",
   "execution_count": 49,
   "id": "0707947e",
   "metadata": {},
   "outputs": [],
   "source": [
    "parameters={'n_estimators':range(150,300,50),\n",
    "            'max_features':[0.4,0.5,0.6,0.7,0.8]}"
   ]
  },
  {
   "cell_type": "code",
   "execution_count": 50,
   "id": "eb289b5f",
   "metadata": {},
   "outputs": [
    {
     "data": {
      "text/html": [
       "<style>#sk-container-id-1 {color: black;background-color: white;}#sk-container-id-1 pre{padding: 0;}#sk-container-id-1 div.sk-toggleable {background-color: white;}#sk-container-id-1 label.sk-toggleable__label {cursor: pointer;display: block;width: 100%;margin-bottom: 0;padding: 0.3em;box-sizing: border-box;text-align: center;}#sk-container-id-1 label.sk-toggleable__label-arrow:before {content: \"▸\";float: left;margin-right: 0.25em;color: #696969;}#sk-container-id-1 label.sk-toggleable__label-arrow:hover:before {color: black;}#sk-container-id-1 div.sk-estimator:hover label.sk-toggleable__label-arrow:before {color: black;}#sk-container-id-1 div.sk-toggleable__content {max-height: 0;max-width: 0;overflow: hidden;text-align: left;background-color: #f0f8ff;}#sk-container-id-1 div.sk-toggleable__content pre {margin: 0.2em;color: black;border-radius: 0.25em;background-color: #f0f8ff;}#sk-container-id-1 input.sk-toggleable__control:checked~div.sk-toggleable__content {max-height: 200px;max-width: 100%;overflow: auto;}#sk-container-id-1 input.sk-toggleable__control:checked~label.sk-toggleable__label-arrow:before {content: \"▾\";}#sk-container-id-1 div.sk-estimator input.sk-toggleable__control:checked~label.sk-toggleable__label {background-color: #d4ebff;}#sk-container-id-1 div.sk-label input.sk-toggleable__control:checked~label.sk-toggleable__label {background-color: #d4ebff;}#sk-container-id-1 input.sk-hidden--visually {border: 0;clip: rect(1px 1px 1px 1px);clip: rect(1px, 1px, 1px, 1px);height: 1px;margin: -1px;overflow: hidden;padding: 0;position: absolute;width: 1px;}#sk-container-id-1 div.sk-estimator {font-family: monospace;background-color: #f0f8ff;border: 1px dotted black;border-radius: 0.25em;box-sizing: border-box;margin-bottom: 0.5em;}#sk-container-id-1 div.sk-estimator:hover {background-color: #d4ebff;}#sk-container-id-1 div.sk-parallel-item::after {content: \"\";width: 100%;border-bottom: 1px solid gray;flex-grow: 1;}#sk-container-id-1 div.sk-label:hover label.sk-toggleable__label {background-color: #d4ebff;}#sk-container-id-1 div.sk-serial::before {content: \"\";position: absolute;border-left: 1px solid gray;box-sizing: border-box;top: 0;bottom: 0;left: 50%;z-index: 0;}#sk-container-id-1 div.sk-serial {display: flex;flex-direction: column;align-items: center;background-color: white;padding-right: 0.2em;padding-left: 0.2em;position: relative;}#sk-container-id-1 div.sk-item {position: relative;z-index: 1;}#sk-container-id-1 div.sk-parallel {display: flex;align-items: stretch;justify-content: center;background-color: white;position: relative;}#sk-container-id-1 div.sk-item::before, #sk-container-id-1 div.sk-parallel-item::before {content: \"\";position: absolute;border-left: 1px solid gray;box-sizing: border-box;top: 0;bottom: 0;left: 50%;z-index: -1;}#sk-container-id-1 div.sk-parallel-item {display: flex;flex-direction: column;z-index: 1;position: relative;background-color: white;}#sk-container-id-1 div.sk-parallel-item:first-child::after {align-self: flex-end;width: 50%;}#sk-container-id-1 div.sk-parallel-item:last-child::after {align-self: flex-start;width: 50%;}#sk-container-id-1 div.sk-parallel-item:only-child::after {width: 0;}#sk-container-id-1 div.sk-dashed-wrapped {border: 1px dashed gray;margin: 0 0.4em 0.5em 0.4em;box-sizing: border-box;padding-bottom: 0.4em;background-color: white;}#sk-container-id-1 div.sk-label label {font-family: monospace;font-weight: bold;display: inline-block;line-height: 1.2em;}#sk-container-id-1 div.sk-label-container {text-align: center;}#sk-container-id-1 div.sk-container {/* jupyter's `normalize.less` sets `[hidden] { display: none; }` but bootstrap.min.css set `[hidden] { display: none !important; }` so we also need the `!important` here to be able to override the default hidden behavior on the sphinx rendered scikit-learn.org. See: https://github.com/scikit-learn/scikit-learn/issues/21755 */display: inline-block !important;position: relative;}#sk-container-id-1 div.sk-text-repr-fallback {display: none;}</style><div id=\"sk-container-id-1\" class=\"sk-top-container\"><div class=\"sk-text-repr-fallback\"><pre>GridSearchCV(cv=RepeatedStratifiedKFold(n_repeats=3, n_splits=5, random_state=None),\n",
       "             estimator=RandomForestClassifier(), n_jobs=-1,\n",
       "             param_grid={&#x27;max_features&#x27;: [0.4, 0.5, 0.6, 0.7, 0.8],\n",
       "                         &#x27;n_estimators&#x27;: range(150, 300, 50)},\n",
       "             scoring=&#x27;roc_auc&#x27;)</pre><b>In a Jupyter environment, please rerun this cell to show the HTML representation or trust the notebook. <br />On GitHub, the HTML representation is unable to render, please try loading this page with nbviewer.org.</b></div><div class=\"sk-container\" hidden><div class=\"sk-item sk-dashed-wrapped\"><div class=\"sk-label-container\"><div class=\"sk-label sk-toggleable\"><input class=\"sk-toggleable__control sk-hidden--visually\" id=\"sk-estimator-id-1\" type=\"checkbox\" ><label for=\"sk-estimator-id-1\" class=\"sk-toggleable__label sk-toggleable__label-arrow\">GridSearchCV</label><div class=\"sk-toggleable__content\"><pre>GridSearchCV(cv=RepeatedStratifiedKFold(n_repeats=3, n_splits=5, random_state=None),\n",
       "             estimator=RandomForestClassifier(), n_jobs=-1,\n",
       "             param_grid={&#x27;max_features&#x27;: [0.4, 0.5, 0.6, 0.7, 0.8],\n",
       "                         &#x27;n_estimators&#x27;: range(150, 300, 50)},\n",
       "             scoring=&#x27;roc_auc&#x27;)</pre></div></div></div><div class=\"sk-parallel\"><div class=\"sk-parallel-item\"><div class=\"sk-item\"><div class=\"sk-label-container\"><div class=\"sk-label sk-toggleable\"><input class=\"sk-toggleable__control sk-hidden--visually\" id=\"sk-estimator-id-2\" type=\"checkbox\" ><label for=\"sk-estimator-id-2\" class=\"sk-toggleable__label sk-toggleable__label-arrow\">estimator: RandomForestClassifier</label><div class=\"sk-toggleable__content\"><pre>RandomForestClassifier()</pre></div></div></div><div class=\"sk-serial\"><div class=\"sk-item\"><div class=\"sk-estimator sk-toggleable\"><input class=\"sk-toggleable__control sk-hidden--visually\" id=\"sk-estimator-id-3\" type=\"checkbox\" ><label for=\"sk-estimator-id-3\" class=\"sk-toggleable__label sk-toggleable__label-arrow\">RandomForestClassifier</label><div class=\"sk-toggleable__content\"><pre>RandomForestClassifier()</pre></div></div></div></div></div></div></div></div></div></div>"
      ],
      "text/plain": [
       "GridSearchCV(cv=RepeatedStratifiedKFold(n_repeats=3, n_splits=5, random_state=None),\n",
       "             estimator=RandomForestClassifier(), n_jobs=-1,\n",
       "             param_grid={'max_features': [0.4, 0.5, 0.6, 0.7, 0.8],\n",
       "                         'n_estimators': range(150, 300, 50)},\n",
       "             scoring='roc_auc')"
      ]
     },
     "execution_count": 50,
     "metadata": {},
     "output_type": "execute_result"
    }
   ],
   "source": [
    "\n",
    "cv=RepeatedStratifiedKFold(n_splits=5, n_repeats=3)\n",
    "\n",
    "grid=GridSearchCV(rf,parameters,scoring='roc_auc',cv=cv,n_jobs=-1)\n",
    "grid.fit(X_train,y_train)"
   ]
  },
  {
   "cell_type": "code",
   "execution_count": 51,
   "id": "9179d122",
   "metadata": {},
   "outputs": [
    {
     "name": "stdout",
     "output_type": "stream",
     "text": [
      "0.8233415337135861\n"
     ]
    }
   ],
   "source": [
    "print(grid.best_score_)"
   ]
  },
  {
   "cell_type": "code",
   "execution_count": null,
   "id": "8258010e",
   "metadata": {},
   "outputs": [],
   "source": [
    "inter=Pipeline([('i',SimpleImputer(strategy='most_frequent')),\n",
    "                ('e',OneHotEncoder()),\n",
    "                ('fs',SelectKBest(score_func=chi2,k=23))])\n",
    "              \n",
    "transformers=[('t',PowerTransformer(),num),\n",
    "              ('inter',inter,cat)]\n",
    "    \n",
    "steps=[('pre',ColumnTransformer(transformers=transformers)),\n",
    "       ('sampling',SMOTE( random_state=42,k_neighbors=5)),\n",
    "       ('model',RandomForestClassifier(**params))]"
   ]
  },
  {
   "cell_type": "code",
   "execution_count": 53,
   "id": "32278d92",
   "metadata": {},
   "outputs": [],
   "source": [
    "from sklearn.compose import ColumnTransformer"
   ]
  },
  {
   "cell_type": "code",
   "execution_count": null,
   "id": "151f180a",
   "metadata": {},
   "outputs": [],
   "source": [
    "transformer = ColumnTransformer(transformer=[\n",
    "    ('tnf1',IterativeImputer(estimator=LinearRegression(), max_iter=10,n_nearest_features=2,skip_complete=True),['city_development_index', 'experience', \n",
    "                   'training_hours', 'target',\n",
    "                   'gender_Male', 'gender_Other', 'enrolled_university_Part time course',\n",
    "                   'enrolled_university_no_enrollment',\n",
    "                   'relevent_experience_No relevent experience',\n",
    "                   'education_level_High School', 'education_level_Masters',\n",
    "                   'education_level_Phd', 'education_level_Primary School',\n",
    "                   'major_discipline_Business Degree', 'major_discipline_Humanities',\n",
    "                   'major_discipline_No Major', 'major_discipline_Other',\n",
    "                   'major_discipline_STEM', 'company_size_100-500',\n",
    "                   'company_size_1000-4999', 'company_size_10000+', 'company_size_50-99',\n",
    "                   'company_size_500-999', 'company_size_5000-9999', 'company_size_<10',\n",
    "                   'company_type_Funded Startup', 'company_type_NGO', 'company_type_Other',\n",
    "                   'company_type_Public Sector', 'company_type_Pvt Ltd', 'last_new_job_2',\n",
    "                   'last_new_job_3', 'last_new_job_4', 'last_new_job_>4',\n",
    "                   'last_new_job_never'] ),\n",
    "    ()\n",
    "])"
   ]
  }
 ],
 "metadata": {
  "kernelspec": {
   "display_name": "Python 3",
   "language": "python",
   "name": "python3"
  },
  "language_info": {
   "codemirror_mode": {
    "name": "ipython",
    "version": 3
   },
   "file_extension": ".py",
   "mimetype": "text/x-python",
   "name": "python",
   "nbconvert_exporter": "python",
   "pygments_lexer": "ipython3",
   "version": "3.8.8"
  }
 },
 "nbformat": 4,
 "nbformat_minor": 5
}
